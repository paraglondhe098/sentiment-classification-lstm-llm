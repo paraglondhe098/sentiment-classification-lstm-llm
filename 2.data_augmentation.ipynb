{
 "cells": [
  {
   "cell_type": "code",
   "execution_count": 1,
   "metadata": {
    "collapsed": true,
    "ExecuteTime": {
     "end_time": "2024-12-27T05:00:53.618699800Z",
     "start_time": "2024-12-27T05:00:44.050553100Z"
    }
   },
   "outputs": [],
   "source": [
    "import torch\n",
    "import pandas as pd\n",
    "import os"
   ]
  },
  {
   "cell_type": "code",
   "execution_count": 2,
   "outputs": [],
   "source": [
    "# os.environ[\"PYTORCH_CUDA_ALLOC_CONF\"] = \"expandable_segments:True\""
   ],
   "metadata": {
    "collapsed": false,
    "ExecuteTime": {
     "end_time": "2024-12-27T05:00:53.629117800Z",
     "start_time": "2024-12-27T05:00:53.619699700Z"
    }
   }
  },
  {
   "cell_type": "code",
   "execution_count": 3,
   "outputs": [
    {
     "data": {
      "text/plain": "device(type='cuda')"
     },
     "execution_count": 3,
     "metadata": {},
     "output_type": "execute_result"
    }
   ],
   "source": [
    "device = torch.device('cuda' if torch.cuda.is_available() else 'cpu')\n",
    "device"
   ],
   "metadata": {
    "collapsed": false,
    "ExecuteTime": {
     "end_time": "2024-12-27T05:00:55.127430200Z",
     "start_time": "2024-12-27T05:00:53.634115800Z"
    }
   }
  },
  {
   "cell_type": "code",
   "execution_count": 4,
   "outputs": [],
   "source": [
    "from nlpaug.augmenter.word import ContextualWordEmbsAug\n",
    "import random\n",
    "from utils.x_flow.pandas import PandasPipeline\n",
    "from typing import Sized, Iterable, Union, Any, Optional\n",
    "from tqdm import tqdm\n",
    "import numpy as np\n",
    "from utils.x_flow.pandas import ReadFile"
   ],
   "metadata": {
    "collapsed": false,
    "ExecuteTime": {
     "end_time": "2024-12-27T05:01:09.887669300Z",
     "start_time": "2024-12-27T05:00:55.126434700Z"
    }
   }
  },
  {
   "cell_type": "code",
   "execution_count": 5,
   "outputs": [],
   "source": [
    "class Augmenter:\n",
    "    def __init__(self, model_name = \"roberta-base\", device_name =\"cpu\", method = None, batch_size: int =32):\n",
    "        self.method = method or ContextualWordEmbsAug(\n",
    "            model_path=model_name, action=\"insert\", device=device_name, batch_size=batch_size\n",
    "        )\n",
    "\n",
    "    def augment(self, texts: Union[Sized, Iterable]):\n",
    "        try:\n",
    "            return self.augmentation_step(texts)\n",
    "        except Exception as e:\n",
    "            print(f\"Error: {e}\\n\"\n",
    "                  f\"Returning original texts\")\n",
    "            return texts\n",
    "\n",
    "    def augmentation_step(self, texts: Union[Sized, Iterable]):\n",
    "        return self.method.augment(texts, n=len(texts))"
   ],
   "metadata": {
    "collapsed": false,
    "ExecuteTime": {
     "end_time": "2024-12-27T05:01:09.905820800Z",
     "start_time": "2024-12-27T05:01:09.897919700Z"
    }
   }
  },
  {
   "cell_type": "code",
   "execution_count": 6,
   "outputs": [],
   "source": [
    "aug = Augmenter(device_name=\"cuda\")"
   ],
   "metadata": {
    "collapsed": false,
    "ExecuteTime": {
     "end_time": "2024-12-27T05:01:14.380654Z",
     "start_time": "2024-12-27T05:01:09.911254400Z"
    }
   }
  },
  {
   "cell_type": "code",
   "execution_count": 7,
   "outputs": [
    {
     "data": {
      "text/plain": "['My name really is Rahul Parag', 'I cannot live legally in India']"
     },
     "execution_count": 7,
     "metadata": {},
     "output_type": "execute_result"
    }
   ],
   "source": [
    "aug.augment(\n",
    "    [\"My name is Parag\",\n",
    "    \"I live in India\"]\n",
    ")"
   ],
   "metadata": {
    "collapsed": false,
    "ExecuteTime": {
     "end_time": "2024-12-27T05:01:15.786790800Z",
     "start_time": "2024-12-27T05:01:14.382816800Z"
    }
   }
  },
  {
   "cell_type": "code",
   "execution_count": 8,
   "outputs": [],
   "source": [
    "class Augmentation(PandasPipeline):\n",
    "    def __init__(self, tol: int, delta: int,\n",
    "                 epsilon: int, augmenter: Any,\n",
    "                 batch_size: int,\n",
    "                 output_file: str,\n",
    "                 random_state: Optional[int] = None,\n",
    "                 fresh_start: bool = True):\n",
    "        super().__init__()\n",
    "        if not all(isinstance(v, int) and v >= 0 for v in [tol, delta, epsilon]):\n",
    "            raise ValueError(\"Parameters 'tol', 'delta', and 'epsilon' must be non-negative integers.\")\n",
    "\n",
    "        self.delta = delta\n",
    "        self.epsilon = epsilon\n",
    "        self.tol = tol\n",
    "        self.augmenter = augmenter\n",
    "        self.random_state = random_state or random.randint(1, 100)\n",
    "        self.batch_size = batch_size\n",
    "        self.output_file = output_file\n",
    "        self.fresh_start = fresh_start\n",
    "        tqdm.pandas()\n",
    "\n",
    "    @staticmethod\n",
    "    def make_directory(filename):\n",
    "        folder_name = os.path.dirname(filename)  # Get the directory name from the file path\n",
    "        if folder_name:  # Ensure the directory is not empty\n",
    "            os.makedirs(folder_name, exist_ok=True)\n",
    "        return filename\n",
    "\n",
    "    def process_df(self, x: pd.DataFrame) -> str:\n",
    "        # Calculate class counts\n",
    "        self.validate_df(x, [\"review_score\", \"review_text\"])\n",
    "        counts = x['review_score'].value_counts()\n",
    "        minority, majority = (0, 1) if counts[0] < counts[1] else (1, 0)\n",
    "        minority_counts = counts[minority]\n",
    "        majority_counts = counts[majority]\n",
    "\n",
    "        # Check if augmentation is needed\n",
    "        if majority_counts - minority_counts <= self.tol:\n",
    "            self.log(\"No need to augment\")\n",
    "            res =  pd.DataFrame(columns=x.columns)\n",
    "            res.to_csv(self.output_file, encoding=\"utf-8\")\n",
    "            return self.output_file\n",
    "        if minority_counts == 0 or majority_counts == 0:\n",
    "            self.log(\"Skipping augmentation due to extreme class imbalance.\")\n",
    "            res =  pd.DataFrame(columns=x.columns)\n",
    "            res.to_csv(self.output_file, encoding=\"utf-8\")\n",
    "            return self.output_file\n",
    "\n",
    "        # Calculate augmentation lengths\n",
    "        rng = np.random.default_rng(self.random_state)\n",
    "        minority_augs_len = (\n",
    "            majority_counts - minority_counts + self.delta + rng.integers(-self.epsilon, self.epsilon + 1)\n",
    "        )\n",
    "        majority_augs_len = self.delta + rng.integers(-self.epsilon, self.epsilon + 1)\n",
    "        total_augs_len = minority_augs_len+majority_augs_len\n",
    "\n",
    "        # Log augmentation details\n",
    "        self.log(\n",
    "            f\"Counts: Minority [{minority}]: {minority_counts}, Majority [{majority}]: {majority_counts}\"\n",
    "        )\n",
    "        self.log(\n",
    "            f\"To augment:\\n\"\n",
    "            f\"- {minority_augs_len} minority instances\\n\"\n",
    "            f\"- {majority_augs_len} majority instances\\n\"\n",
    "            f\"- Total = {total_augs_len}\\n\"\n",
    "            f\"- No. of batches = {int(np.ceil(total_augs_len/self.batch_size))}\"\n",
    "        )\n",
    "\n",
    "        # Sample candidates\n",
    "        minority_candidates = x[x['review_score'] == minority].sample(\n",
    "            n=minority_augs_len, replace=(minority_augs_len>minority_counts), random_state=self.random_state\n",
    "        ).copy()\n",
    "        majority_candidates = x[x['review_score'] == majority].sample(\n",
    "            n=majority_augs_len, replace=(majority_augs_len>majority_counts), random_state=self.random_state\n",
    "        ).copy()\n",
    "\n",
    "        data = pd.concat([minority_candidates, majority_candidates], axis=0).reset_index(drop=True)\n",
    "        data = data.sample(len(data))\n",
    "\n",
    "        if os.path.exists(self.output_file) and self.fresh_start:\n",
    "            os.remove(self.output_file)\n",
    "\n",
    "        output_file = self.make_directory(self.output_file)\n",
    "        with open(output_file, mode=\"w\", newline='', encoding=\"utf-8\") as f_out:\n",
    "            header_written = False\n",
    "            # num_batches = int(len(data)/self.batch_size)\n",
    "            for start_idx in tqdm(range(0, len(data), self.batch_size),desc=f\"Augmenting\"):\n",
    "                end_idx = min(start_idx + self.batch_size, len(data))\n",
    "                curr_batch = data.iloc[start_idx:end_idx, :].copy()\n",
    "                curr_batch['review_text'] = self.augmenter.augment(curr_batch['review_text'].tolist())\n",
    "                curr_batch.to_csv(f_out, index=False, mode='a', header=not header_written, encoding=\"utf-8\")\n",
    "                header_written = True\n",
    "        return self.output_file"
   ],
   "metadata": {
    "collapsed": false,
    "ExecuteTime": {
     "end_time": "2024-12-27T05:01:15.866455700Z",
     "start_time": "2024-12-27T05:01:15.787790400Z"
    }
   }
  },
  {
   "cell_type": "code",
   "execution_count": 9,
   "outputs": [],
   "source": [
    "from utils.x_flow.base import PipeLambda\n",
    "from utils.x_flow.pandas import ReadFile, WriteFile"
   ],
   "metadata": {
    "collapsed": false,
    "ExecuteTime": {
     "end_time": "2024-12-27T05:01:15.868657900Z",
     "start_time": "2024-12-27T05:01:15.825165200Z"
    }
   }
  },
  {
   "cell_type": "code",
   "execution_count": 10,
   "outputs": [],
   "source": [
    "batch_size = 32\n",
    "augmentation_pipeline = ReadFile() >>\\\n",
    "                        PipeLambda(func = lambda x: x.sample(10000), name = \"Sampling\") >>\\\n",
    "                        Augmentation(tol = 50,\n",
    "                                     delta=100,\n",
    "                                     epsilon=50,\n",
    "                                     augmenter=Augmenter(model_name = \"roberta-base\",batch_size=batch_size,\n",
    "                                                         device_name = 'cuda' if torch.cuda.is_available() else 'cpu'),\n",
    "                                     random_state=42, batch_size=batch_size, fresh_start=True,\n",
    "                                     output_file=\"data/augmented/aug_1.csv\")"
   ],
   "metadata": {
    "collapsed": false,
    "ExecuteTime": {
     "end_time": "2024-12-27T05:01:15.869650900Z",
     "start_time": "2024-12-27T05:01:15.838397100Z"
    }
   }
  },
  {
   "cell_type": "code",
   "execution_count": 11,
   "outputs": [
    {
     "data": {
      "text/plain": "'Execution order: FileLoader->Sampling->Augmentation'"
     },
     "execution_count": 11,
     "metadata": {},
     "output_type": "execute_result"
    }
   ],
   "source": [
    "augmentation_pipeline.sequence"
   ],
   "metadata": {
    "collapsed": false,
    "ExecuteTime": {
     "end_time": "2024-12-27T05:01:15.870651500Z",
     "start_time": "2024-12-27T05:01:15.852878700Z"
    }
   }
  },
  {
   "cell_type": "code",
   "execution_count": 12,
   "outputs": [
    {
     "name": "stdout",
     "output_type": "stream",
     "text": [
      "1.Running FileLoader:\n",
      "Successfully read file: data/preprocessed/cleaned.csv\n",
      "2.Running Sampling:\n",
      "3.Running Augmentation:\n",
      "Counts: Minority [0]: 1731, Majority [1]: 8269\n",
      "To augment:\n",
      "- 6597 minority instances\n",
      "- 128 majority instances\n",
      "- Total = 6725\n",
      "- No. of batches = 211\n"
     ]
    },
    {
     "name": "stderr",
     "output_type": "stream",
     "text": [
      "Augmenting: 100%|██████████| 211/211 [1:25:50<00:00, 24.41s/it]\n"
     ]
    }
   ],
   "source": [
    "path = augmentation_pipeline.step(\"data/preprocessed/cleaned.csv\")"
   ],
   "metadata": {
    "collapsed": false,
    "ExecuteTime": {
     "end_time": "2024-12-27T06:27:07.248714Z",
     "start_time": "2024-12-27T05:01:15.866455700Z"
    }
   }
  },
  {
   "cell_type": "code",
   "execution_count": 13,
   "outputs": [],
   "source": [
    "adf = pd.read_csv(path)"
   ],
   "metadata": {
    "collapsed": false,
    "ExecuteTime": {
     "end_time": "2024-12-27T06:27:07.363770300Z",
     "start_time": "2024-12-27T06:27:07.255725Z"
    }
   }
  },
  {
   "cell_type": "code",
   "execution_count": 14,
   "outputs": [
    {
     "data": {
      "text/plain": "      app_id                                   app_name  \\\n0     311210                Call of Duty: Black Ops III   \n1     206420                              Saints Row IV   \n2     222880                                 Insurgency   \n3     348020                                        NaN   \n4     253510                         Warmachine Tactics   \n...      ...                                        ...   \n6720   12210  Grand Theft Auto IV: The Complete Edition   \n6721  466910                          Worm.is: The Game   \n6722  364360                       Total War: WARHAMMER   \n6723  330070                                        NaN   \n6724  267900                          Guilty Gear Isuka   \n\n                                            review_text  review_score urls  \\\n0                                                bored.             0   []   \n1     due to you the fact means that this is just th...             0   []   \n2     i didnt play up it much, and my friend is shar...             0   []   \n3     this game is absolutely awful, the controls ar...             0   []   \n4     really are poor work from the devs who just se...             0   []   \n...                                                 ...           ...  ...   \n6720  dosent cosmetic work steam ass just wants you ...             0   []   \n6721               new update ah made no lag unbearable             0   []   \n6722  ive really enjoyed playing this game, however ...             0   []   \n6723  i like this software, lol but i think thats ju...             0   []   \n6724  awful couples with it terrible controller support             0   []   \n\n      contains_url                                           raw_text  \\\n0            False                                             bored.   \n1            False  Due to the fact that this is just The Trouble ...   \n2            False  I didn't play it much, and my friend share-ed ...   \n3            False  This game is absolutely awful, the controls ar...   \n4            False  Really poor work from the devs who just seem t...   \n...            ...                                                ...   \n6720         False             dosent work steam just wants you money   \n6721         False                     NEW UPDATE MADE LAG UNBEARABLE   \n6722         False  I\\'ve really enjoyed playing this game, howeve...   \n6723         False  I like this software, but I think that's just ...   \n6724         False             awful with terrible controller support   \n\n      review_length  word_counts  \n0                 6            1  \n1               340           61  \n2               161           36  \n3               342           63  \n4               298           61  \n...             ...          ...  \n6720             38            7  \n6721             30            5  \n6722            272           51  \n6723            588          109  \n6724             38            5  \n\n[6725 rows x 9 columns]",
      "text/html": "<div>\n<style scoped>\n    .dataframe tbody tr th:only-of-type {\n        vertical-align: middle;\n    }\n\n    .dataframe tbody tr th {\n        vertical-align: top;\n    }\n\n    .dataframe thead th {\n        text-align: right;\n    }\n</style>\n<table border=\"1\" class=\"dataframe\">\n  <thead>\n    <tr style=\"text-align: right;\">\n      <th></th>\n      <th>app_id</th>\n      <th>app_name</th>\n      <th>review_text</th>\n      <th>review_score</th>\n      <th>urls</th>\n      <th>contains_url</th>\n      <th>raw_text</th>\n      <th>review_length</th>\n      <th>word_counts</th>\n    </tr>\n  </thead>\n  <tbody>\n    <tr>\n      <th>0</th>\n      <td>311210</td>\n      <td>Call of Duty: Black Ops III</td>\n      <td>bored.</td>\n      <td>0</td>\n      <td>[]</td>\n      <td>False</td>\n      <td>bored.</td>\n      <td>6</td>\n      <td>1</td>\n    </tr>\n    <tr>\n      <th>1</th>\n      <td>206420</td>\n      <td>Saints Row IV</td>\n      <td>due to you the fact means that this is just th...</td>\n      <td>0</td>\n      <td>[]</td>\n      <td>False</td>\n      <td>Due to the fact that this is just The Trouble ...</td>\n      <td>340</td>\n      <td>61</td>\n    </tr>\n    <tr>\n      <th>2</th>\n      <td>222880</td>\n      <td>Insurgency</td>\n      <td>i didnt play up it much, and my friend is shar...</td>\n      <td>0</td>\n      <td>[]</td>\n      <td>False</td>\n      <td>I didn't play it much, and my friend share-ed ...</td>\n      <td>161</td>\n      <td>36</td>\n    </tr>\n    <tr>\n      <th>3</th>\n      <td>348020</td>\n      <td>NaN</td>\n      <td>this game is absolutely awful, the controls ar...</td>\n      <td>0</td>\n      <td>[]</td>\n      <td>False</td>\n      <td>This game is absolutely awful, the controls ar...</td>\n      <td>342</td>\n      <td>63</td>\n    </tr>\n    <tr>\n      <th>4</th>\n      <td>253510</td>\n      <td>Warmachine Tactics</td>\n      <td>really are poor work from the devs who just se...</td>\n      <td>0</td>\n      <td>[]</td>\n      <td>False</td>\n      <td>Really poor work from the devs who just seem t...</td>\n      <td>298</td>\n      <td>61</td>\n    </tr>\n    <tr>\n      <th>...</th>\n      <td>...</td>\n      <td>...</td>\n      <td>...</td>\n      <td>...</td>\n      <td>...</td>\n      <td>...</td>\n      <td>...</td>\n      <td>...</td>\n      <td>...</td>\n    </tr>\n    <tr>\n      <th>6720</th>\n      <td>12210</td>\n      <td>Grand Theft Auto IV: The Complete Edition</td>\n      <td>dosent cosmetic work steam ass just wants you ...</td>\n      <td>0</td>\n      <td>[]</td>\n      <td>False</td>\n      <td>dosent work steam just wants you money</td>\n      <td>38</td>\n      <td>7</td>\n    </tr>\n    <tr>\n      <th>6721</th>\n      <td>466910</td>\n      <td>Worm.is: The Game</td>\n      <td>new update ah made no lag unbearable</td>\n      <td>0</td>\n      <td>[]</td>\n      <td>False</td>\n      <td>NEW UPDATE MADE LAG UNBEARABLE</td>\n      <td>30</td>\n      <td>5</td>\n    </tr>\n    <tr>\n      <th>6722</th>\n      <td>364360</td>\n      <td>Total War: WARHAMMER</td>\n      <td>ive really enjoyed playing this game, however ...</td>\n      <td>0</td>\n      <td>[]</td>\n      <td>False</td>\n      <td>I\\'ve really enjoyed playing this game, howeve...</td>\n      <td>272</td>\n      <td>51</td>\n    </tr>\n    <tr>\n      <th>6723</th>\n      <td>330070</td>\n      <td>NaN</td>\n      <td>i like this software, lol but i think thats ju...</td>\n      <td>0</td>\n      <td>[]</td>\n      <td>False</td>\n      <td>I like this software, but I think that's just ...</td>\n      <td>588</td>\n      <td>109</td>\n    </tr>\n    <tr>\n      <th>6724</th>\n      <td>267900</td>\n      <td>Guilty Gear Isuka</td>\n      <td>awful couples with it terrible controller support</td>\n      <td>0</td>\n      <td>[]</td>\n      <td>False</td>\n      <td>awful with terrible controller support</td>\n      <td>38</td>\n      <td>5</td>\n    </tr>\n  </tbody>\n</table>\n<p>6725 rows × 9 columns</p>\n</div>"
     },
     "execution_count": 14,
     "metadata": {},
     "output_type": "execute_result"
    }
   ],
   "source": [
    "adf"
   ],
   "metadata": {
    "collapsed": false,
    "ExecuteTime": {
     "end_time": "2024-12-27T06:27:07.429376800Z",
     "start_time": "2024-12-27T06:27:07.369297800Z"
    }
   }
  },
  {
   "cell_type": "code",
   "execution_count": 15,
   "outputs": [
    {
     "data": {
      "text/plain": "46"
     },
     "execution_count": 15,
     "metadata": {},
     "output_type": "execute_result"
    }
   ],
   "source": [
    "adf.duplicated().sum()"
   ],
   "metadata": {
    "collapsed": false,
    "ExecuteTime": {
     "end_time": "2024-12-27T06:27:07.449350300Z",
     "start_time": "2024-12-27T06:27:07.428375300Z"
    }
   }
  },
  {
   "cell_type": "code",
   "execution_count": 16,
   "outputs": [],
   "source": [
    "df = pd.read_csv(\"data/preprocessed/cleaned.csv\")"
   ],
   "metadata": {
    "collapsed": false,
    "ExecuteTime": {
     "end_time": "2024-12-27T06:27:07.653957300Z",
     "start_time": "2024-12-27T06:27:07.449350300Z"
    }
   }
  },
  {
   "cell_type": "code",
   "execution_count": 17,
   "outputs": [],
   "source": [
    "combined = pd.concat([adf,df], axis=0)"
   ],
   "metadata": {
    "collapsed": false,
    "ExecuteTime": {
     "end_time": "2024-12-27T06:27:07.661467700Z",
     "start_time": "2024-12-27T06:27:07.654964700Z"
    }
   }
  },
  {
   "cell_type": "code",
   "execution_count": 18,
   "outputs": [
    {
     "data": {
      "text/plain": "58"
     },
     "execution_count": 18,
     "metadata": {},
     "output_type": "execute_result"
    }
   ],
   "source": [
    "combined.duplicated().sum()"
   ],
   "metadata": {
    "collapsed": false,
    "ExecuteTime": {
     "end_time": "2024-12-27T06:27:07.729562200Z",
     "start_time": "2024-12-27T06:27:07.663471400Z"
    }
   }
  },
  {
   "cell_type": "code",
   "execution_count": 19,
   "outputs": [
    {
     "data": {
      "text/plain": "review_score\n1    13730\n0     9484\nName: count, dtype: int64"
     },
     "execution_count": 19,
     "metadata": {},
     "output_type": "execute_result"
    }
   ],
   "source": [
    "combined['review_score'].value_counts()"
   ],
   "metadata": {
    "collapsed": false,
    "ExecuteTime": {
     "end_time": "2024-12-27T06:27:07.738072300Z",
     "start_time": "2024-12-27T06:27:07.730561800Z"
    }
   }
  },
  {
   "cell_type": "code",
   "execution_count": 20,
   "outputs": [
    {
     "data": {
      "text/plain": "review_score\n1    13602\n0     2887\nName: count, dtype: int64"
     },
     "execution_count": 20,
     "metadata": {},
     "output_type": "execute_result"
    }
   ],
   "source": [
    "df['review_score'].value_counts()"
   ],
   "metadata": {
    "collapsed": false,
    "ExecuteTime": {
     "end_time": "2024-12-27T06:27:07.747241300Z",
     "start_time": "2024-12-27T06:27:07.740077700Z"
    }
   }
  },
  {
   "cell_type": "code",
   "execution_count": 21,
   "outputs": [
    {
     "data": {
      "text/plain": "<Figure size 1200x600 with 2 Axes>",
      "image/png": "[encoded data removed]"
     },
     "metadata": {},
     "output_type": "display_data"
    }
   ],
   "source": [
    "import matplotlib.pyplot as plt\n",
    "\n",
    "# Get the value counts for 'before' and 'after'\n",
    "before = df['review_score'].value_counts()\n",
    "after = combined['review_score'].value_counts()\n",
    "\n",
    "# Create the pie charts side by side\n",
    "fig, axes = plt.subplots(1, 2, figsize=(12, 6))\n",
    "\n",
    "# Plot pie chart for 'before'\n",
    "axes[0].pie(before, labels=before.index, autopct='%1.1f%%', startangle=90)\n",
    "axes[0].set_title('Review Score Distribution - Before Augmentation')\n",
    "axes[0].axis('equal')  # Equal aspect ratio ensures the pie chart is a circle.\n",
    "\n",
    "# Plot pie chart for 'after'\n",
    "axes[1].pie(after, labels=after.index, autopct='%1.1f%%', startangle=90)\n",
    "axes[1].set_title('Review Score Distribution - After Augmentation')\n",
    "axes[1].axis('equal')  # Equal aspect ratio ensures the pie chart is a circle.\n",
    "\n",
    "# Display the plots\n",
    "plt.tight_layout()\n",
    "plt.show()\n"
   ],
   "metadata": {
    "collapsed": false,
    "ExecuteTime": {
     "end_time": "2024-12-27T06:27:08.815766100Z",
     "start_time": "2024-12-27T06:27:07.750242100Z"
    }
   }
  },
  {
   "cell_type": "code",
   "execution_count": 22,
   "outputs": [
    {
     "data": {
      "text/plain": "       app_id                     app_name  \\\n0      311210  Call of Duty: Black Ops III   \n1      206420                Saints Row IV   \n2      222880                   Insurgency   \n3      348020                          NaN   \n4      253510           Warmachine Tactics   \n...       ...                          ...   \n16484  255710             Cities: Skylines   \n16485  250110       Assault Android Cactus   \n16486  205950                Jet Set Radio   \n16487  377160                    Fallout 4   \n16488  233270      Far Cry® 3 Blood Dragon   \n\n                                             review_text  review_score urls  \\\n0                                                 bored.             0   []   \n1      due to you the fact means that this is just th...             0   []   \n2      i didnt play up it much, and my friend is shar...             0   []   \n3      this game is absolutely awful, the controls ar...             0   []   \n4      really are poor work from the devs who just se...             0   []   \n...                                                  ...           ...  ...   \n16484  some times this game will ♥♥♥♥ you over realy ...             1   []   \n16485  really solid twin stick shooter with tight con...             1   []   \n16486                                      super brother             1   []   \n16487  friggin awesome but not quite as good as fnv yet.             1   []   \n16488  this game is really awesome. though the story ...             1   []   \n\n       contains_url                                           raw_text  \\\n0             False                                             bored.   \n1             False  Due to the fact that this is just The Trouble ...   \n2             False  I didn't play it much, and my friend share-ed ...   \n3             False  This game is absolutely awful, the controls ar...   \n4             False  Really poor work from the devs who just seem t...   \n...             ...                                                ...   \n16484         False  some times this game will ♥♥♥♥ YOU OVER REALY ...   \n16485         False  Really solid twin stick shooter with tight con...   \n16486         False                                      Super brother   \n16487         False  Friggin awesome but not quite as good as FNV.....   \n16488         False  This game is really awesome. Though the story ...   \n\n       review_length  word_counts  \n0                  6            1  \n1                340           61  \n2                161           36  \n3                342           63  \n4                298           61  \n...              ...          ...  \n16484            188           41  \n16485            849          149  \n16486             13            2  \n16487             49           10  \n16488            135           25  \n\n[23214 rows x 9 columns]",
      "text/html": "<div>\n<style scoped>\n    .dataframe tbody tr th:only-of-type {\n        vertical-align: middle;\n    }\n\n    .dataframe tbody tr th {\n        vertical-align: top;\n    }\n\n    .dataframe thead th {\n        text-align: right;\n    }\n</style>\n<table border=\"1\" class=\"dataframe\">\n  <thead>\n    <tr style=\"text-align: right;\">\n      <th></th>\n      <th>app_id</th>\n      <th>app_name</th>\n      <th>review_text</th>\n      <th>review_score</th>\n      <th>urls</th>\n      <th>contains_url</th>\n      <th>raw_text</th>\n      <th>review_length</th>\n      <th>word_counts</th>\n    </tr>\n  </thead>\n  <tbody>\n    <tr>\n      <th>0</th>\n      <td>311210</td>\n      <td>Call of Duty: Black Ops III</td>\n      <td>bored.</td>\n      <td>0</td>\n      <td>[]</td>\n      <td>False</td>\n      <td>bored.</td>\n      <td>6</td>\n      <td>1</td>\n    </tr>\n    <tr>\n      <th>1</th>\n      <td>206420</td>\n      <td>Saints Row IV</td>\n      <td>due to you the fact means that this is just th...</td>\n      <td>0</td>\n      <td>[]</td>\n      <td>False</td>\n      <td>Due to the fact that this is just The Trouble ...</td>\n      <td>340</td>\n      <td>61</td>\n    </tr>\n    <tr>\n      <th>2</th>\n      <td>222880</td>\n      <td>Insurgency</td>\n      <td>i didnt play up it much, and my friend is shar...</td>\n      <td>0</td>\n      <td>[]</td>\n      <td>False</td>\n      <td>I didn't play it much, and my friend share-ed ...</td>\n      <td>161</td>\n      <td>36</td>\n    </tr>\n    <tr>\n      <th>3</th>\n      <td>348020</td>\n      <td>NaN</td>\n      <td>this game is absolutely awful, the controls ar...</td>\n      <td>0</td>\n      <td>[]</td>\n      <td>False</td>\n      <td>This game is absolutely awful, the controls ar...</td>\n      <td>342</td>\n      <td>63</td>\n    </tr>\n    <tr>\n      <th>4</th>\n      <td>253510</td>\n      <td>Warmachine Tactics</td>\n      <td>really are poor work from the devs who just se...</td>\n      <td>0</td>\n      <td>[]</td>\n      <td>False</td>\n      <td>Really poor work from the devs who just seem t...</td>\n      <td>298</td>\n      <td>61</td>\n    </tr>\n    <tr>\n      <th>...</th>\n      <td>...</td>\n      <td>...</td>\n      <td>...</td>\n      <td>...</td>\n      <td>...</td>\n      <td>...</td>\n      <td>...</td>\n      <td>...</td>\n      <td>...</td>\n    </tr>\n    <tr>\n      <th>16484</th>\n      <td>255710</td>\n      <td>Cities: Skylines</td>\n      <td>some times this game will ♥♥♥♥ you over realy ...</td>\n      <td>1</td>\n      <td>[]</td>\n      <td>False</td>\n      <td>some times this game will ♥♥♥♥ YOU OVER REALY ...</td>\n      <td>188</td>\n      <td>41</td>\n    </tr>\n    <tr>\n      <th>16485</th>\n      <td>250110</td>\n      <td>Assault Android Cactus</td>\n      <td>really solid twin stick shooter with tight con...</td>\n      <td>1</td>\n      <td>[]</td>\n      <td>False</td>\n      <td>Really solid twin stick shooter with tight con...</td>\n      <td>849</td>\n      <td>149</td>\n    </tr>\n    <tr>\n      <th>16486</th>\n      <td>205950</td>\n      <td>Jet Set Radio</td>\n      <td>super brother</td>\n      <td>1</td>\n      <td>[]</td>\n      <td>False</td>\n      <td>Super brother</td>\n      <td>13</td>\n      <td>2</td>\n    </tr>\n    <tr>\n      <th>16487</th>\n      <td>377160</td>\n      <td>Fallout 4</td>\n      <td>friggin awesome but not quite as good as fnv yet.</td>\n      <td>1</td>\n      <td>[]</td>\n      <td>False</td>\n      <td>Friggin awesome but not quite as good as FNV.....</td>\n      <td>49</td>\n      <td>10</td>\n    </tr>\n    <tr>\n      <th>16488</th>\n      <td>233270</td>\n      <td>Far Cry® 3 Blood Dragon</td>\n      <td>this game is really awesome. though the story ...</td>\n      <td>1</td>\n      <td>[]</td>\n      <td>False</td>\n      <td>This game is really awesome. Though the story ...</td>\n      <td>135</td>\n      <td>25</td>\n    </tr>\n  </tbody>\n</table>\n<p>23214 rows × 9 columns</p>\n</div>"
     },
     "execution_count": 22,
     "metadata": {},
     "output_type": "execute_result"
    }
   ],
   "source": [
    "combined"
   ],
   "metadata": {
    "collapsed": false,
    "ExecuteTime": {
     "end_time": "2024-12-27T06:27:37.832755300Z",
     "start_time": "2024-12-27T06:27:37.816841600Z"
    }
   }
  },
  {
   "cell_type": "code",
   "execution_count": 23,
   "outputs": [],
   "source": [
    "combined[['app_id', 'app_name', 'review_text', 'review_score']].to_csv(\"data/preprocessed/combined.csv\", index=False)"
   ],
   "metadata": {
    "collapsed": false,
    "ExecuteTime": {
     "end_time": "2024-12-27T06:28:26.278614900Z",
     "start_time": "2024-12-27T06:28:26.129245Z"
    }
   }
  },
  {
   "cell_type": "code",
   "execution_count": null,
   "outputs": [],
   "source": [],
   "metadata": {
    "collapsed": false
   }
  }
 ],
 "metadata": {
  "kernelspec": {
   "display_name": "Python 3",
   "language": "python",
   "name": "python3"
  },
  "language_info": {
   "codemirror_mode": {
    "name": "ipython",
    "version": 2
   },
   "file_extension": ".py",
   "mimetype": "text/x-python",
   "name": "python",
   "nbconvert_exporter": "python",
   "pygments_lexer": "ipython2",
   "version": "2.7.6"
  }
 },
 "nbformat": 4,
 "nbformat_minor": 0
}
