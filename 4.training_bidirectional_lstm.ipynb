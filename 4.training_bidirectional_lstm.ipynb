{
 "cells": [
  {
   "cell_type": "code",
   "execution_count": 1,
   "metadata": {
    "collapsed": true,
    "ExecuteTime": {
     "end_time": "2024-12-29T16:12:41.633505200Z",
     "start_time": "2024-12-29T16:12:36.333295100Z"
    }
   },
   "outputs": [],
   "source": [
    "import os.path\n",
    "\n",
    "import pandas as pd\n",
    "import torch\n",
    "from transformers import AutoTokenizer"
   ]
  },
  {
   "cell_type": "code",
   "execution_count": 2,
   "outputs": [],
   "source": [
    "data = pd.read_csv(\"data/preprocessed/cleaned.csv\")"
   ],
   "metadata": {
    "collapsed": false,
    "ExecuteTime": {
     "end_time": "2024-12-29T16:12:41.800270100Z",
     "start_time": "2024-12-29T16:12:41.626827Z"
    }
   }
  },
  {
   "cell_type": "code",
   "execution_count": 3,
   "outputs": [],
   "source": [
    "tokenizer = AutoTokenizer.from_pretrained('bert-base-uncased')"
   ],
   "metadata": {
    "collapsed": false,
    "ExecuteTime": {
     "end_time": "2024-12-29T16:12:42.254369700Z",
     "start_time": "2024-12-29T16:12:41.802269900Z"
    }
   }
  },
  {
   "cell_type": "code",
   "execution_count": 4,
   "outputs": [],
   "source": [
    "def tokenize_function(text):\n",
    "    return tokenizer(text, padding=True, truncation=True, max_length=128, return_tensors='pt')"
   ],
   "metadata": {
    "collapsed": false,
    "ExecuteTime": {
     "end_time": "2024-12-29T16:12:42.258367700Z",
     "start_time": "2024-12-29T16:12:42.246368700Z"
    }
   }
  },
  {
   "cell_type": "code",
   "execution_count": 5,
   "outputs": [],
   "source": [
    "tokenized = tokenize_function(data['review_text'].tolist())"
   ],
   "metadata": {
    "collapsed": false,
    "ExecuteTime": {
     "end_time": "2024-12-29T16:12:44.190312900Z",
     "start_time": "2024-12-29T16:12:42.246368700Z"
    }
   }
  },
  {
   "cell_type": "code",
   "execution_count": 6,
   "outputs": [],
   "source": [
    "# Convert tensors to list format and assign them correctly\n",
    "data['input_ids'] = tokenized['input_ids'].squeeze().tolist()\n",
    "data['token_type_ids'] = tokenized['token_type_ids'].squeeze().tolist()\n",
    "data['attention_mask'] = tokenized['attention_mask'].squeeze().tolist()"
   ],
   "metadata": {
    "collapsed": false,
    "ExecuteTime": {
     "end_time": "2024-12-29T16:12:44.332961200Z",
     "start_time": "2024-12-29T16:12:44.193317600Z"
    }
   }
  },
  {
   "cell_type": "code",
   "execution_count": 7,
   "outputs": [
    {
     "data": {
      "text/plain": "0        [101, 2220, 3229, 3319, 102, 0, 0, 0, 0, 0, 0,...\n1        [101, 2339, 2180, 2102, 2023, 8816, 102, 0, 0,...\n2        [101, 2428, 10392, 2208, 3325, 1037, 5257, 199...\n3        [101, 2175, 2041, 2006, 2019, 6172, 1010, 2022...\n4        [101, 1996, 2190, 2517, 2208, 1045, 2031, 2412...\n                               ...                        \n16484    [101, 2070, 2335, 2023, 2208, 2097, 1625, 3015...\n16485    [101, 2428, 5024, 5519, 6293, 13108, 2007, 438...\n16486    [101, 3565, 2567, 102, 0, 0, 0, 0, 0, 0, 0, 0,...\n16487    [101, 10424, 8004, 11528, 12476, 2021, 2025, 3...\n16488    [101, 2023, 2208, 2003, 2428, 12476, 1012, 229...\nName: input_ids, Length: 16489, dtype: object"
     },
     "execution_count": 7,
     "metadata": {},
     "output_type": "execute_result"
    }
   ],
   "source": [
    "data['input_ids']"
   ],
   "metadata": {
    "collapsed": false,
    "ExecuteTime": {
     "end_time": "2024-12-29T16:12:44.360036400Z",
     "start_time": "2024-12-29T16:12:44.333962200Z"
    }
   }
  },
  {
   "cell_type": "code",
   "execution_count": 8,
   "outputs": [
    {
     "data": {
      "text/plain": "       app_id                                 app_name  \\\n0      252490                                     Rust   \n1      107410                                   Arma 3   \n2      459010  Ghost Town Mine Ride & Shootin' Gallery   \n3        8930               Sid Meier's Civilization V   \n4      108710                                Alan Wake   \n...       ...                                      ...   \n16484  255710                         Cities: Skylines   \n16485  250110                   Assault Android Cactus   \n16486  205950                            Jet Set Radio   \n16487  377160                                Fallout 4   \n16488  233270                  Far Cry® 3 Blood Dragon   \n\n                                             review_text  review_score urls  \\\n0                                    early access review             1   []   \n1                                 why wont this download             1   []   \n2      really fantastic game experience a combination...             1   []   \n3      go out on an adventure, be honerouble, get res...             1   []   \n4      the best written game i have ever played as we...             1   []   \n...                                                  ...           ...  ...   \n16484  some times this game will ♥♥♥♥ you over realy ...             1   []   \n16485  really solid twin stick shooter with tight con...             1   []   \n16486                                      super brother             1   []   \n16487  friggin awesome but not quite as good as fnv yet.             1   []   \n16488  this game is really awesome. though the story ...             1   []   \n\n       contains_url                                           raw_text  \\\n0             False                                Early Access Review   \n1             False                         ? why won't this download    \n2             False  Really fantastic game experience - a combinati...   \n3             False  Go out on an adventure, be honerouble, get res...   \n4             False  The best written game I have ever played as we...   \n...             ...                                                ...   \n16484         False  some times this game will ♥♥♥♥ YOU OVER REALY ...   \n16485         False  Really solid twin stick shooter with tight con...   \n16486         False                                      Super brother   \n16487         False  Friggin awesome but not quite as good as FNV.....   \n16488         False  This game is really awesome. Though the story ...   \n\n       review_length  word_counts  \\\n0                 19            3   \n1                 22            4   \n2                390           70   \n3               1377          256   \n4                537          103   \n...              ...          ...   \n16484            188           41   \n16485            849          149   \n16486             13            2   \n16487             49           10   \n16488            135           25   \n\n                                               input_ids  \\\n0      [101, 2220, 3229, 3319, 102, 0, 0, 0, 0, 0, 0,...   \n1      [101, 2339, 2180, 2102, 2023, 8816, 102, 0, 0,...   \n2      [101, 2428, 10392, 2208, 3325, 1037, 5257, 199...   \n3      [101, 2175, 2041, 2006, 2019, 6172, 1010, 2022...   \n4      [101, 1996, 2190, 2517, 2208, 1045, 2031, 2412...   \n...                                                  ...   \n16484  [101, 2070, 2335, 2023, 2208, 2097, 1625, 3015...   \n16485  [101, 2428, 5024, 5519, 6293, 13108, 2007, 438...   \n16486  [101, 3565, 2567, 102, 0, 0, 0, 0, 0, 0, 0, 0,...   \n16487  [101, 10424, 8004, 11528, 12476, 2021, 2025, 3...   \n16488  [101, 2023, 2208, 2003, 2428, 12476, 1012, 229...   \n\n                                          token_type_ids  \\\n0      [0, 0, 0, 0, 0, 0, 0, 0, 0, 0, 0, 0, 0, 0, 0, ...   \n1      [0, 0, 0, 0, 0, 0, 0, 0, 0, 0, 0, 0, 0, 0, 0, ...   \n2      [0, 0, 0, 0, 0, 0, 0, 0, 0, 0, 0, 0, 0, 0, 0, ...   \n3      [0, 0, 0, 0, 0, 0, 0, 0, 0, 0, 0, 0, 0, 0, 0, ...   \n4      [0, 0, 0, 0, 0, 0, 0, 0, 0, 0, 0, 0, 0, 0, 0, ...   \n...                                                  ...   \n16484  [0, 0, 0, 0, 0, 0, 0, 0, 0, 0, 0, 0, 0, 0, 0, ...   \n16485  [0, 0, 0, 0, 0, 0, 0, 0, 0, 0, 0, 0, 0, 0, 0, ...   \n16486  [0, 0, 0, 0, 0, 0, 0, 0, 0, 0, 0, 0, 0, 0, 0, ...   \n16487  [0, 0, 0, 0, 0, 0, 0, 0, 0, 0, 0, 0, 0, 0, 0, ...   \n16488  [0, 0, 0, 0, 0, 0, 0, 0, 0, 0, 0, 0, 0, 0, 0, ...   \n\n                                          attention_mask  \n0      [1, 1, 1, 1, 1, 0, 0, 0, 0, 0, 0, 0, 0, 0, 0, ...  \n1      [1, 1, 1, 1, 1, 1, 1, 0, 0, 0, 0, 0, 0, 0, 0, ...  \n2      [1, 1, 1, 1, 1, 1, 1, 1, 1, 1, 1, 1, 1, 1, 1, ...  \n3      [1, 1, 1, 1, 1, 1, 1, 1, 1, 1, 1, 1, 1, 1, 1, ...  \n4      [1, 1, 1, 1, 1, 1, 1, 1, 1, 1, 1, 1, 1, 1, 1, ...  \n...                                                  ...  \n16484  [1, 1, 1, 1, 1, 1, 1, 1, 1, 1, 1, 1, 1, 1, 1, ...  \n16485  [1, 1, 1, 1, 1, 1, 1, 1, 1, 1, 1, 1, 1, 1, 1, ...  \n16486  [1, 1, 1, 1, 0, 0, 0, 0, 0, 0, 0, 0, 0, 0, 0, ...  \n16487  [1, 1, 1, 1, 1, 1, 1, 1, 1, 1, 1, 1, 1, 1, 1, ...  \n16488  [1, 1, 1, 1, 1, 1, 1, 1, 1, 1, 1, 1, 1, 1, 1, ...  \n\n[16489 rows x 12 columns]",
      "text/html": "<div>\n<style scoped>\n    .dataframe tbody tr th:only-of-type {\n        vertical-align: middle;\n    }\n\n    .dataframe tbody tr th {\n        vertical-align: top;\n    }\n\n    .dataframe thead th {\n        text-align: right;\n    }\n</style>\n<table border=\"1\" class=\"dataframe\">\n  <thead>\n    <tr style=\"text-align: right;\">\n      <th></th>\n      <th>app_id</th>\n      <th>app_name</th>\n      <th>review_text</th>\n      <th>review_score</th>\n      <th>urls</th>\n      <th>contains_url</th>\n      <th>raw_text</th>\n      <th>review_length</th>\n      <th>word_counts</th>\n      <th>input_ids</th>\n      <th>token_type_ids</th>\n      <th>attention_mask</th>\n    </tr>\n  </thead>\n  <tbody>\n    <tr>\n      <th>0</th>\n      <td>252490</td>\n      <td>Rust</td>\n      <td>early access review</td>\n      <td>1</td>\n      <td>[]</td>\n      <td>False</td>\n      <td>Early Access Review</td>\n      <td>19</td>\n      <td>3</td>\n      <td>[101, 2220, 3229, 3319, 102, 0, 0, 0, 0, 0, 0,...</td>\n      <td>[0, 0, 0, 0, 0, 0, 0, 0, 0, 0, 0, 0, 0, 0, 0, ...</td>\n      <td>[1, 1, 1, 1, 1, 0, 0, 0, 0, 0, 0, 0, 0, 0, 0, ...</td>\n    </tr>\n    <tr>\n      <th>1</th>\n      <td>107410</td>\n      <td>Arma 3</td>\n      <td>why wont this download</td>\n      <td>1</td>\n      <td>[]</td>\n      <td>False</td>\n      <td>? why won't this download</td>\n      <td>22</td>\n      <td>4</td>\n      <td>[101, 2339, 2180, 2102, 2023, 8816, 102, 0, 0,...</td>\n      <td>[0, 0, 0, 0, 0, 0, 0, 0, 0, 0, 0, 0, 0, 0, 0, ...</td>\n      <td>[1, 1, 1, 1, 1, 1, 1, 0, 0, 0, 0, 0, 0, 0, 0, ...</td>\n    </tr>\n    <tr>\n      <th>2</th>\n      <td>459010</td>\n      <td>Ghost Town Mine Ride &amp; Shootin' Gallery</td>\n      <td>really fantastic game experience a combination...</td>\n      <td>1</td>\n      <td>[]</td>\n      <td>False</td>\n      <td>Really fantastic game experience - a combinati...</td>\n      <td>390</td>\n      <td>70</td>\n      <td>[101, 2428, 10392, 2208, 3325, 1037, 5257, 199...</td>\n      <td>[0, 0, 0, 0, 0, 0, 0, 0, 0, 0, 0, 0, 0, 0, 0, ...</td>\n      <td>[1, 1, 1, 1, 1, 1, 1, 1, 1, 1, 1, 1, 1, 1, 1, ...</td>\n    </tr>\n    <tr>\n      <th>3</th>\n      <td>8930</td>\n      <td>Sid Meier's Civilization V</td>\n      <td>go out on an adventure, be honerouble, get res...</td>\n      <td>1</td>\n      <td>[]</td>\n      <td>False</td>\n      <td>Go out on an adventure, be honerouble, get res...</td>\n      <td>1377</td>\n      <td>256</td>\n      <td>[101, 2175, 2041, 2006, 2019, 6172, 1010, 2022...</td>\n      <td>[0, 0, 0, 0, 0, 0, 0, 0, 0, 0, 0, 0, 0, 0, 0, ...</td>\n      <td>[1, 1, 1, 1, 1, 1, 1, 1, 1, 1, 1, 1, 1, 1, 1, ...</td>\n    </tr>\n    <tr>\n      <th>4</th>\n      <td>108710</td>\n      <td>Alan Wake</td>\n      <td>the best written game i have ever played as we...</td>\n      <td>1</td>\n      <td>[]</td>\n      <td>False</td>\n      <td>The best written game I have ever played as we...</td>\n      <td>537</td>\n      <td>103</td>\n      <td>[101, 1996, 2190, 2517, 2208, 1045, 2031, 2412...</td>\n      <td>[0, 0, 0, 0, 0, 0, 0, 0, 0, 0, 0, 0, 0, 0, 0, ...</td>\n      <td>[1, 1, 1, 1, 1, 1, 1, 1, 1, 1, 1, 1, 1, 1, 1, ...</td>\n    </tr>\n    <tr>\n      <th>...</th>\n      <td>...</td>\n      <td>...</td>\n      <td>...</td>\n      <td>...</td>\n      <td>...</td>\n      <td>...</td>\n      <td>...</td>\n      <td>...</td>\n      <td>...</td>\n      <td>...</td>\n      <td>...</td>\n      <td>...</td>\n    </tr>\n    <tr>\n      <th>16484</th>\n      <td>255710</td>\n      <td>Cities: Skylines</td>\n      <td>some times this game will ♥♥♥♥ you over realy ...</td>\n      <td>1</td>\n      <td>[]</td>\n      <td>False</td>\n      <td>some times this game will ♥♥♥♥ YOU OVER REALY ...</td>\n      <td>188</td>\n      <td>41</td>\n      <td>[101, 2070, 2335, 2023, 2208, 2097, 1625, 3015...</td>\n      <td>[0, 0, 0, 0, 0, 0, 0, 0, 0, 0, 0, 0, 0, 0, 0, ...</td>\n      <td>[1, 1, 1, 1, 1, 1, 1, 1, 1, 1, 1, 1, 1, 1, 1, ...</td>\n    </tr>\n    <tr>\n      <th>16485</th>\n      <td>250110</td>\n      <td>Assault Android Cactus</td>\n      <td>really solid twin stick shooter with tight con...</td>\n      <td>1</td>\n      <td>[]</td>\n      <td>False</td>\n      <td>Really solid twin stick shooter with tight con...</td>\n      <td>849</td>\n      <td>149</td>\n      <td>[101, 2428, 5024, 5519, 6293, 13108, 2007, 438...</td>\n      <td>[0, 0, 0, 0, 0, 0, 0, 0, 0, 0, 0, 0, 0, 0, 0, ...</td>\n      <td>[1, 1, 1, 1, 1, 1, 1, 1, 1, 1, 1, 1, 1, 1, 1, ...</td>\n    </tr>\n    <tr>\n      <th>16486</th>\n      <td>205950</td>\n      <td>Jet Set Radio</td>\n      <td>super brother</td>\n      <td>1</td>\n      <td>[]</td>\n      <td>False</td>\n      <td>Super brother</td>\n      <td>13</td>\n      <td>2</td>\n      <td>[101, 3565, 2567, 102, 0, 0, 0, 0, 0, 0, 0, 0,...</td>\n      <td>[0, 0, 0, 0, 0, 0, 0, 0, 0, 0, 0, 0, 0, 0, 0, ...</td>\n      <td>[1, 1, 1, 1, 0, 0, 0, 0, 0, 0, 0, 0, 0, 0, 0, ...</td>\n    </tr>\n    <tr>\n      <th>16487</th>\n      <td>377160</td>\n      <td>Fallout 4</td>\n      <td>friggin awesome but not quite as good as fnv yet.</td>\n      <td>1</td>\n      <td>[]</td>\n      <td>False</td>\n      <td>Friggin awesome but not quite as good as FNV.....</td>\n      <td>49</td>\n      <td>10</td>\n      <td>[101, 10424, 8004, 11528, 12476, 2021, 2025, 3...</td>\n      <td>[0, 0, 0, 0, 0, 0, 0, 0, 0, 0, 0, 0, 0, 0, 0, ...</td>\n      <td>[1, 1, 1, 1, 1, 1, 1, 1, 1, 1, 1, 1, 1, 1, 1, ...</td>\n    </tr>\n    <tr>\n      <th>16488</th>\n      <td>233270</td>\n      <td>Far Cry® 3 Blood Dragon</td>\n      <td>this game is really awesome. though the story ...</td>\n      <td>1</td>\n      <td>[]</td>\n      <td>False</td>\n      <td>This game is really awesome. Though the story ...</td>\n      <td>135</td>\n      <td>25</td>\n      <td>[101, 2023, 2208, 2003, 2428, 12476, 1012, 229...</td>\n      <td>[0, 0, 0, 0, 0, 0, 0, 0, 0, 0, 0, 0, 0, 0, 0, ...</td>\n      <td>[1, 1, 1, 1, 1, 1, 1, 1, 1, 1, 1, 1, 1, 1, 1, ...</td>\n    </tr>\n  </tbody>\n</table>\n<p>16489 rows × 12 columns</p>\n</div>"
     },
     "execution_count": 8,
     "metadata": {},
     "output_type": "execute_result"
    }
   ],
   "source": [
    "data"
   ],
   "metadata": {
    "collapsed": false,
    "ExecuteTime": {
     "end_time": "2024-12-29T16:12:44.385972500Z",
     "start_time": "2024-12-29T16:12:44.354584700Z"
    }
   }
  },
  {
   "cell_type": "code",
   "execution_count": 9,
   "outputs": [],
   "source": [
    "from sklearn.model_selection import train_test_split"
   ],
   "metadata": {
    "collapsed": false,
    "ExecuteTime": {
     "end_time": "2024-12-29T16:12:45.427268400Z",
     "start_time": "2024-12-29T16:12:44.386974100Z"
    }
   }
  },
  {
   "cell_type": "code",
   "execution_count": 10,
   "outputs": [],
   "source": [
    "X_train, X_test, y_train, y_test = train_test_split(data[['input_ids']], data['review_score'], test_size=0.2,random_state=42)"
   ],
   "metadata": {
    "collapsed": false,
    "ExecuteTime": {
     "end_time": "2024-12-29T16:12:45.437264700Z",
     "start_time": "2024-12-29T16:12:45.429733Z"
    }
   }
  },
  {
   "cell_type": "code",
   "execution_count": 11,
   "outputs": [
    {
     "data": {
      "text/plain": "128"
     },
     "execution_count": 11,
     "metadata": {},
     "output_type": "execute_result"
    }
   ],
   "source": [
    "len(X_train['input_ids'].iloc[0])\n",
    "len(X_train['input_ids'].iloc[1])"
   ],
   "metadata": {
    "collapsed": false,
    "ExecuteTime": {
     "end_time": "2024-12-29T16:12:45.442248900Z",
     "start_time": "2024-12-29T16:12:45.438260900Z"
    }
   }
  },
  {
   "cell_type": "code",
   "execution_count": 12,
   "outputs": [
    {
     "data": {
      "text/plain": "tensor([[  101,  2023,  1998,  ...,     0,     0,     0],\n        [  101,  2023,  2208,  ...,     0,     0,     0],\n        [  101,  2428,  5959,  ...,     0,     0,     0],\n        ...,\n        [  101,  8680,  2208,  ...,     0,     0,     0],\n        [  101,  1045,  2123,  ...,     0,     0,     0],\n        [  101, 25430,  8490,  ...,     0,     0,     0]])"
     },
     "execution_count": 12,
     "metadata": {},
     "output_type": "execute_result"
    }
   ],
   "source": [
    "torch.tensor(X_train['input_ids'].tolist())"
   ],
   "metadata": {
    "collapsed": false,
    "ExecuteTime": {
     "end_time": "2024-12-29T16:12:45.677004Z",
     "start_time": "2024-12-29T16:12:45.442248900Z"
    }
   }
  },
  {
   "cell_type": "code",
   "execution_count": 13,
   "outputs": [],
   "source": [
    "from torch.utils.data import Dataset, DataLoader"
   ],
   "metadata": {
    "collapsed": false,
    "ExecuteTime": {
     "end_time": "2024-12-29T16:12:45.680085900Z",
     "start_time": "2024-12-29T16:12:45.677571800Z"
    }
   }
  },
  {
   "cell_type": "code",
   "execution_count": 14,
   "outputs": [],
   "source": [
    "class RatingDataset(Dataset):\n",
    "    def __init__(self, ids: pd.DataFrame, labels: pd.Series):\n",
    "        self.ids = torch.tensor(ids['input_ids'].tolist(), dtype=torch.long)\n",
    "        self.labels = torch.tensor(labels.tolist(), dtype=torch.float).unsqueeze(1)\n",
    "\n",
    "    def __len__(self):\n",
    "        return len(self.ids)\n",
    "\n",
    "    def __getitem__(self, idx):\n",
    "        return self.ids[idx], self.labels[idx]\n"
   ],
   "metadata": {
    "collapsed": false,
    "ExecuteTime": {
     "end_time": "2024-12-29T16:12:45.689106Z",
     "start_time": "2024-12-29T16:12:45.685552400Z"
    }
   }
  },
  {
   "cell_type": "code",
   "execution_count": 15,
   "outputs": [],
   "source": [
    "train_ds = RatingDataset(X_train, y_train)\n",
    "val_ds = RatingDataset(X_test, y_test)"
   ],
   "metadata": {
    "collapsed": false,
    "ExecuteTime": {
     "end_time": "2024-12-29T16:12:45.837850500Z",
     "start_time": "2024-12-29T16:12:45.691248900Z"
    }
   }
  },
  {
   "cell_type": "code",
   "execution_count": 16,
   "outputs": [],
   "source": [
    "train_dl = DataLoader(train_ds, batch_size=128, shuffle=True)\n",
    "val_dl = DataLoader(val_ds, batch_size=128, shuffle=False)"
   ],
   "metadata": {
    "collapsed": false,
    "ExecuteTime": {
     "end_time": "2024-12-29T16:12:45.842370200Z",
     "start_time": "2024-12-29T16:12:45.838861700Z"
    }
   }
  },
  {
   "cell_type": "code",
   "execution_count": 17,
   "outputs": [
    {
     "data": {
      "text/plain": "(torch.Size([128, 128]), torch.Size([128, 1]))"
     },
     "execution_count": 17,
     "metadata": {},
     "output_type": "execute_result"
    }
   ],
   "source": [
    "texts, labels = next(iter(train_dl))\n",
    "texts.shape, labels.shape"
   ],
   "metadata": {
    "collapsed": false,
    "ExecuteTime": {
     "end_time": "2024-12-29T16:12:45.851089300Z",
     "start_time": "2024-12-29T16:12:45.844592300Z"
    }
   }
  },
  {
   "cell_type": "code",
   "execution_count": 18,
   "outputs": [
    {
     "data": {
      "text/plain": "'[CLS] what can i say about the game that i have been looking forward to for long time and since i had a player of the original version. i have shaer story on a fe internt forums. i dont know i bothered to get thi on steam, opther than to just see what differences steam might have added to the game. just small things like achievements amp art worked based onthe game that might be included with the digital download. sure, this game has its problems, even before i get to play it. sometimes i cant even log in, and other times my iternet is so lousy. [SEP]'"
     },
     "execution_count": 18,
     "metadata": {},
     "output_type": "execute_result"
    }
   ],
   "source": [
    "tokenizer.decode(texts[0])"
   ],
   "metadata": {
    "collapsed": false,
    "ExecuteTime": {
     "end_time": "2024-12-29T16:12:45.855782800Z",
     "start_time": "2024-12-29T16:12:45.852088900Z"
    }
   }
  },
  {
   "cell_type": "code",
   "execution_count": 19,
   "outputs": [
    {
     "data": {
      "text/plain": "tensor([  101,  2054,  2064,  1045,  2360,  2055,  1996,  2208,  2008,  1045,\n         2031,  2042,  2559,  2830,  2000,  2005,  2146,  2051,  1998,  2144,\n         1045,  2018,  1037,  2447,  1997,  1996,  2434,  2544,  1012,  1045,\n         2031, 21146,  2121,  2466,  2006,  1037, 10768, 25204,  2102, 21415,\n         1012,  1045,  2123,  2102,  2113,  1045, 11250,  2000,  2131, 16215,\n         2072,  2006,  5492,  1010, 23569,  5886,  2084,  2000,  2074,  2156,\n         2054,  5966,  5492,  2453,  2031,  2794,  2000,  1996,  2208,  1012,\n         2074,  2235,  2477,  2066, 10106, 23713,  2396,  2499,  2241,  2006,\n        10760,  2208,  2008,  2453,  2022,  2443,  2007,  1996,  3617,  8816,\n         1012,  2469,  1010,  2023,  2208,  2038,  2049,  3471,  1010,  2130,\n         2077,  1045,  2131,  2000,  2377,  2009,  1012,  2823,  1045,  2064,\n         2102,  2130,  8833,  1999,  1010,  1998,  2060,  2335,  2026,  2009,\n        11795,  3388,  2003,  2061, 10223,  6508,  1012,   102])"
     },
     "execution_count": 19,
     "metadata": {},
     "output_type": "execute_result"
    }
   ],
   "source": [
    "texts[0]"
   ],
   "metadata": {
    "collapsed": false,
    "ExecuteTime": {
     "end_time": "2024-12-29T16:12:45.918141100Z",
     "start_time": "2024-12-29T16:12:45.857956900Z"
    }
   }
  },
  {
   "cell_type": "code",
   "execution_count": 20,
   "outputs": [],
   "source": [
    "import torch.nn as nn\n",
    "from torch import optim"
   ],
   "metadata": {
    "collapsed": false,
    "ExecuteTime": {
     "end_time": "2024-12-29T16:12:45.918141100Z",
     "start_time": "2024-12-29T16:12:45.864128200Z"
    }
   }
  },
  {
   "cell_type": "code",
   "execution_count": 21,
   "outputs": [],
   "source": [
    "# class SentimentLSTM(nn.Module):\n",
    "#     def __init__(self, vocab_length, maxlen):\n",
    "#         super(SentimentLSTM, self).__init__()\n",
    "#         self.embedding = nn.Embedding(num_embeddings=vocab_length, embedding_dim=128, max_norm=maxlen)\n",
    "#         self.bidirectional_lstm = nn.LSTM(input_size=128, hidden_size=128, batch_first=True, bidirectional=True)\n",
    "#         self.gru = nn.GRU(input_size=256, hidden_size=64, batch_first=True)  # 256: 128 * 2 for bidirectional LSTM\n",
    "#         self.lstm = nn.LSTM(input_size=64, hidden_size=64, batch_first=True)\n",
    "#         self.fc1 = nn.Linear(in_features=64, out_features=16)\n",
    "#         self.bn = nn.BatchNorm1d(num_features=16)\n",
    "#         self.dropout = nn.Dropout(0.1)\n",
    "#         self.output = nn.Linear(in_features=16, out_features=1)\n",
    "#\n",
    "#     def forward(self, x):\n",
    "#         x = self.embedding(x)\n",
    "#         x, _ = self.bidirectional_lstm(x)\n",
    "#         x, _ = self.gru(x)\n",
    "#         x, _ = self.lstm(x)\n",
    "#         x = x[:, -1, :]  # Take the last time step's output\n",
    "#         x = self.fc1(x)\n",
    "#         x = nn.ReLU()(x)\n",
    "#         x = self.bn(x)\n",
    "#         x = self.dropout(x)\n",
    "#         x = self.output(x)\n",
    "#         return x"
   ],
   "metadata": {
    "collapsed": false,
    "ExecuteTime": {
     "end_time": "2024-12-29T16:12:45.918141100Z",
     "start_time": "2024-12-29T16:12:45.868997100Z"
    }
   }
  },
  {
   "cell_type": "code",
   "execution_count": 22,
   "outputs": [],
   "source": [
    "# class Attention(nn.Module):\n",
    "#     def __init__(self, hidden_size):\n",
    "#         super(Attention, self).__init__()\n",
    "#         self.attention = nn.Linear(hidden_size, 1)\n",
    "#\n",
    "#     def forward(self, x):\n",
    "#         # x: (batch_size, seq_length, hidden_size)\n",
    "#         scores = self.attention(x).squeeze(-1)  # (batch_size, seq_length)\n",
    "#         weights = nn.functional.softmax(scores, dim=1)  # (batch_size, seq_length)\n",
    "#         output = (x * weights.unsqueeze(-1)).sum(dim=1)  # (batch_size, hidden_size)\n",
    "#         return output, weights\n",
    "#\n",
    "#\n",
    "# class SentimentLSTM(nn.Module):\n",
    "#     def __init__(self, vocab_length):\n",
    "#         super(SentimentLSTM, self).__init__()\n",
    "#         self.embedding = nn.Embedding(num_embeddings=vocab_length, embedding_dim=256, padding_idx=0)\n",
    "#         self.bidirectional_lstm = nn.LSTM(input_size=256, hidden_size=128, batch_first=True, bidirectional=True)\n",
    "#         self.transition = nn.Linear(256, 256)\n",
    "#         self.attention = Attention(hidden_size=256)  # BiLSTM hidden_dim * 2\n",
    "#         self.gru = nn.GRU(input_size=256, hidden_size=128, batch_first=True)\n",
    "#         self.fc1 = nn.Linear(in_features=128, out_features=64)\n",
    "#         self.bn1 = nn.BatchNorm1d(num_features=64)\n",
    "#         self.dropout1 = nn.Dropout(0.3)\n",
    "#         self.fc2 = nn.Linear(in_features=64, out_features=16)\n",
    "#         self.bn2 = nn.BatchNorm1d(num_features=16)\n",
    "#         self.dropout2 = nn.Dropout(0.3)\n",
    "#         self.output = nn.Linear(in_features=16, out_features=1)\n",
    "#\n",
    "#     def forward(self, x):\n",
    "#         x = self.embedding(x)\n",
    "#         x, _ = self.bidirectional_lstm(x)\n",
    "#         print(x.shape)\n",
    "#         x,_ = self.attention(x)\n",
    "#         print(x.shape)\n",
    "#         # x = self.transition(x)\n",
    "#         x, _ = self.gru(x)\n",
    "#         x = self.fc1(x)\n",
    "#         x = nn.LeakyReLU()(x)\n",
    "#         print(x.shape)\n",
    "#         x = self.bn1(x)\n",
    "#         x = self.dropout1(x)\n",
    "#         x = self.fc2(x)\n",
    "#         x = nn.LeakyReLU()(x)\n",
    "#         x = self.bn2(x)\n",
    "#         x = self.dropout2(x)\n",
    "#         x = self.output(x)\n",
    "#         return x"
   ],
   "metadata": {
    "collapsed": false,
    "ExecuteTime": {
     "end_time": "2024-12-29T16:12:45.918141100Z",
     "start_time": "2024-12-29T16:12:45.874987Z"
    }
   }
  },
  {
   "cell_type": "code",
   "execution_count": 23,
   "outputs": [],
   "source": [
    "from datetime import datetime"
   ],
   "metadata": {
    "collapsed": false,
    "ExecuteTime": {
     "end_time": "2024-12-29T16:12:45.918141100Z",
     "start_time": "2024-12-29T16:12:45.879343Z"
    }
   }
  },
  {
   "cell_type": "code",
   "execution_count": 73,
   "outputs": [],
   "source": [
    "class SentimentLSTM(nn.Module):\n",
    "    def __init__(self, no_layers, vocab_size, hidden_dim, embedding_dim, output_dim, drop_prob=0.3, bidirectional=False):\n",
    "        super(SentimentLSTM, self).__init__()\n",
    "        self.output_dim = output_dim\n",
    "        self.hidden_dim = hidden_dim\n",
    "        self.no_layers = no_layers\n",
    "        self.bidirectional = bidirectional\n",
    "\n",
    "        # Embedding layer\n",
    "        self.embedding = nn.Embedding(vocab_size, embedding_dim)\n",
    "\n",
    "        # LSTM layer\n",
    "        self.lstm = nn.LSTM(\n",
    "            input_size=embedding_dim,\n",
    "            hidden_size=hidden_dim,\n",
    "            num_layers=no_layers,\n",
    "            batch_first=True,\n",
    "            bidirectional=bidirectional\n",
    "        )\n",
    "\n",
    "        # Dropout layer\n",
    "        self.dropout = nn.Dropout(drop_prob)\n",
    "\n",
    "        # Fully connected layer\n",
    "        self.fc = nn.Linear(hidden_dim * (2 if bidirectional else 1), hidden_dim if bidirectional else output_dim)\n",
    "\n",
    "        if bidirectional:\n",
    "            self.bn = nn.BatchNorm1d(num_features=hidden_dim)\n",
    "            self.act = nn.LeakyReLU()\n",
    "            self.final = nn.Linear(hidden_dim, output_dim)\n",
    "\n",
    "\n",
    "    def forward(self, x):\n",
    "        batch_size = x.size(0)\n",
    "        num_directions = 2 if self.bidirectional else 1\n",
    "\n",
    "        # Initialize hidden state and cell state\n",
    "        h = torch.zeros(self.no_layers * num_directions, batch_size, self.hidden_dim).to(x.device)\n",
    "        c = torch.zeros(self.no_layers * num_directions, batch_size, self.hidden_dim).to(x.device)\n",
    "\n",
    "        # Embedding and LSTM\n",
    "        embeds = self.embedding(x)  # Shape: (batch_size, seq_length, embedding_dim)\n",
    "        lstm_out, (h, c) = self.lstm(embeds, (h, c))  # lstm_out: (batch_size, seq_length, hidden_dim * num_directions)\n",
    "\n",
    "        # Take the hidden state from the last timestep\n",
    "        last_hidden = lstm_out[:, -1, :]  # Shape: (batch_size, hidden_dim * num_directions)\n",
    "\n",
    "        # Dropout and fully connected layer\n",
    "        out = self.dropout(last_hidden)\n",
    "        out = self.fc(out)  # Shape: (batch_size, output_dim)\n",
    "\n",
    "        if self.bidirectional:\n",
    "            out = self.final(self.act(self.bn(out)))\n",
    "\n",
    "        return out"
   ],
   "metadata": {
    "collapsed": false,
    "ExecuteTime": {
     "end_time": "2024-12-29T17:55:40.928756600Z",
     "start_time": "2024-12-29T17:55:40.917768300Z"
    }
   }
  },
  {
   "cell_type": "code",
   "execution_count": 73,
   "outputs": [],
   "source": [],
   "metadata": {
    "collapsed": false,
    "ExecuteTime": {
     "end_time": "2024-12-29T17:55:41.206149400Z",
     "start_time": "2024-12-29T17:55:41.198948700Z"
    }
   }
  },
  {
   "cell_type": "code",
   "execution_count": 74,
   "outputs": [
    {
     "data": {
      "text/plain": "30522"
     },
     "execution_count": 74,
     "metadata": {},
     "output_type": "execute_result"
    }
   ],
   "source": [
    "len(tokenizer)"
   ],
   "metadata": {
    "collapsed": false,
    "ExecuteTime": {
     "end_time": "2024-12-29T17:55:41.509806800Z",
     "start_time": "2024-12-29T17:55:41.494302800Z"
    }
   }
  },
  {
   "cell_type": "code",
   "execution_count": 75,
   "outputs": [],
   "source": [
    "device = torch.device(\"cuda\")"
   ],
   "metadata": {
    "collapsed": false,
    "ExecuteTime": {
     "end_time": "2024-12-29T17:55:41.996392500Z",
     "start_time": "2024-12-29T17:55:41.984878700Z"
    }
   }
  },
  {
   "cell_type": "code",
   "execution_count": 85,
   "outputs": [
    {
     "name": "stdout",
     "output_type": "stream",
     "text": [
      "SentimentLSTM(\n",
      "  (embedding): Embedding(30523, 128)\n",
      "  (lstm): LSTM(128, 256, num_layers=3, batch_first=True, bidirectional=True)\n",
      "  (dropout): Dropout(p=0.3, inplace=False)\n",
      "  (fc): Linear(in_features=512, out_features=1, bias=True)\n",
      ")\n"
     ]
    }
   ],
   "source": [
    "model = SentimentLSTM(no_layers=4,vocab_size=len(tokenizer)+1,hidden_dim=256,\n",
    "                      embedding_dim=128,output_dim=1,drop_prob=0.3, bidirectional=True)\n",
    "model = model.to(device)\n",
    "print(model)"
   ],
   "metadata": {
    "collapsed": false,
    "ExecuteTime": {
     "end_time": "2024-12-29T18:10:27.915394900Z",
     "start_time": "2024-12-29T18:10:27.835496200Z"
    }
   }
  },
  {
   "cell_type": "code",
   "execution_count": 86,
   "outputs": [],
   "source": [
    "criterion = nn.BCEWithLogitsLoss()\n",
    "# optimizer = optim.Adam(model.parameters(), lr=0.0005, weight_decay=1e-5)\n",
    "optimizer = optim.Adam(model.parameters(), lr=0.0001, weight_decay=1e-5)"
   ],
   "metadata": {
    "collapsed": false,
    "ExecuteTime": {
     "end_time": "2024-12-29T18:10:28.975700500Z",
     "start_time": "2024-12-29T18:10:28.950791200Z"
    }
   }
  },
  {
   "cell_type": "code",
   "execution_count": 86,
   "outputs": [],
   "source": [],
   "metadata": {
    "collapsed": false,
    "ExecuteTime": {
     "end_time": "2024-12-29T18:10:29.277102Z",
     "start_time": "2024-12-29T18:10:29.267080600Z"
    }
   }
  },
  {
   "cell_type": "code",
   "execution_count": 87,
   "outputs": [
    {
     "name": "stdout",
     "output_type": "stream",
     "text": [
      "torch.Size([128, 128])\n",
      "torch.Size([128, 1])\n"
     ]
    }
   ],
   "source": [
    "# Test the model with a batch from the training DataLoader\n",
    "batch_ids, batch_labels = next(iter(train_dl))\n",
    "batch_ids, batch_labels = batch_ids.to(device), batch_labels.to(device)\n",
    "with torch.no_grad():\n",
    "    print(batch_ids.shape)\n",
    "    out = model(batch_ids)\n",
    "    print(out.shape)\n",
    "    loss = criterion(batch_labels, out)\n",
    "  # Should match the batch size and output dimensions"
   ],
   "metadata": {
    "collapsed": false,
    "ExecuteTime": {
     "end_time": "2024-12-29T18:10:29.530075500Z",
     "start_time": "2024-12-29T18:10:29.487724100Z"
    }
   }
  },
  {
   "cell_type": "code",
   "execution_count": 88,
   "outputs": [],
   "source": [
    "from candle import Trainer\n",
    "from candle.metrics import Accuracy, Precision, Recall\n",
    "from candle.callbacks import EarlyStopping"
   ],
   "metadata": {
    "collapsed": false,
    "ExecuteTime": {
     "end_time": "2024-12-29T18:10:29.832468800Z",
     "start_time": "2024-12-29T18:10:29.830423100Z"
    }
   }
  },
  {
   "cell_type": "code",
   "execution_count": 89,
   "outputs": [],
   "source": [
    "metrics = [Accuracy(), Precision(), Recall()]"
   ],
   "metadata": {
    "collapsed": false,
    "ExecuteTime": {
     "end_time": "2024-12-29T18:10:29.913202400Z",
     "start_time": "2024-12-29T18:10:29.904980600Z"
    }
   }
  },
  {
   "cell_type": "code",
   "execution_count": 90,
   "outputs": [],
   "source": [
    "trainer = Trainer(\n",
    "    model=model,\n",
    "    criterion=criterion,\n",
    "    input_shape=(128,128),\n",
    "    optimizer=optimizer,\n",
    "    metrics=metrics,\n",
    "    callbacks=[EarlyStopping(basis=\"val_accuracy\", metric_minimize=False, patience=10, threshold=0.85)],\n",
    "    display_time_elapsed=True,\n",
    "    device=torch.device('cuda')\n",
    ")"
   ],
   "metadata": {
    "collapsed": false,
    "ExecuteTime": {
     "end_time": "2024-12-29T18:10:30.430729900Z",
     "start_time": "2024-12-29T18:10:30.410802500Z"
    }
   }
  },
  {
   "cell_type": "code",
   "execution_count": 91,
   "outputs": [
    {
     "name": "stderr",
     "output_type": "stream",
     "text": [
      "EPOCH 0: : 104it [00:09, 10.60it/s]\n",
      "--> Metrics:   accuracy: 0.8243 ,val_accuracy: 0.8286 ,precision: 0.8243 ,val_precision: 0.8286 ,recall: 1.0000 ,val_recall: 1.0000 ,loss: 0.4859 ,val_loss: 0.4591\n",
      "Time elapsed: 11.021353721618652 s\n",
      "----------------------------------------------------------------------------------------------------\n",
      "EPOCH 1: : 104it [00:09, 10.97it/s]\n",
      "--> Metrics:   accuracy: 0.8256 ,val_accuracy: 0.8286 ,precision: 0.8256 ,val_precision: 0.8286 ,recall: 1.0000 ,val_recall: 1.0000 ,loss: 0.4612 ,val_loss: 0.4573\n",
      "Time elapsed: 21.439709901809692 s\n",
      "----------------------------------------------------------------------------------------------------\n",
      "EPOCH 2: : 104it [00:09, 10.89it/s]\n",
      "--> Metrics:   accuracy: 0.8230 ,val_accuracy: 0.8286 ,precision: 0.8230 ,val_precision: 0.8286 ,recall: 1.0000 ,val_recall: 1.0000 ,loss: 0.4635 ,val_loss: 0.4571\n",
      "Time elapsed: 31.988802671432495 s\n",
      "----------------------------------------------------------------------------------------------------\n",
      "EPOCH 3: : 104it [00:16,  6.49it/s]\n",
      "--> Metrics:   accuracy: 0.8230 ,val_accuracy: 0.8286 ,precision: 0.8230 ,val_precision: 0.8286 ,recall: 1.0000 ,val_recall: 1.0000 ,loss: 0.4634 ,val_loss: 0.4605\n",
      "Time elapsed: 49.792784690856934 s\n",
      "----------------------------------------------------------------------------------------------------\n",
      "EPOCH 4: : 104it [00:16,  6.32it/s]\n",
      "--> Metrics:   accuracy: 0.8217 ,val_accuracy: 0.8286 ,precision: 0.8217 ,val_precision: 0.8286 ,recall: 1.0000 ,val_recall: 1.0000 ,loss: 0.4650 ,val_loss: 0.4578\n",
      "Time elapsed: 68.02720618247986 s\n",
      "----------------------------------------------------------------------------------------------------\n",
      "EPOCH 5: : 104it [00:16,  6.19it/s]\n",
      "--> Metrics:   accuracy: 0.8244 ,val_accuracy: 0.8274 ,precision: 0.8246 ,val_precision: 0.8284 ,recall: 0.9996 ,val_recall: 0.9986 ,loss: 0.4582 ,val_loss: 0.4566\n",
      "Time elapsed: 86.61628937721252 s\n",
      "----------------------------------------------------------------------------------------------------\n",
      "EPOCH 6: : 104it [00:16,  6.44it/s]\n",
      "--> Metrics:   accuracy: 0.8270 ,val_accuracy: 0.8239 ,precision: 0.8279 ,val_precision: 0.8301 ,recall: 0.9976 ,val_recall: 0.9901 ,loss: 0.4558 ,val_loss: 0.4582\n",
      "Time elapsed: 104.58132481575012 s\n",
      "----------------------------------------------------------------------------------------------------\n",
      "EPOCH 7: : 104it [00:16,  6.12it/s]\n",
      "--> Metrics:   accuracy: 0.8305 ,val_accuracy: 0.8206 ,precision: 0.8329 ,val_precision: 0.8313 ,recall: 0.9943 ,val_recall: 0.9829 ,loss: 0.4503 ,val_loss: 0.4600\n",
      "Time elapsed: 123.34402823448181 s\n",
      "----------------------------------------------------------------------------------------------------\n",
      "EPOCH 8: : 104it [00:15,  6.53it/s]\n",
      "--> Metrics:   accuracy: 0.8325 ,val_accuracy: 0.8209 ,precision: 0.8360 ,val_precision: 0.8323 ,recall: 0.9916 ,val_recall: 0.9818 ,loss: 0.4470 ,val_loss: 0.4641\n",
      "Time elapsed: 141.01660680770874 s\n",
      "----------------------------------------------------------------------------------------------------\n",
      "EPOCH 9: : 104it [00:16,  6.47it/s]\n",
      "--> Metrics:   accuracy: 0.8358 ,val_accuracy: 0.8270 ,precision: 0.8388 ,val_precision: 0.8312 ,recall: 0.9914 ,val_recall: 0.9927 ,loss: 0.4423 ,val_loss: 0.4586\n",
      "Time elapsed: 158.77826309204102 s\n",
      "----------------------------------------------------------------------------------------------------\n",
      "EPOCH 10: : 104it [00:15,  6.55it/s]\n",
      "--> Metrics:   accuracy: 0.8384 ,val_accuracy: 0.8197 ,precision: 0.8405 ,val_precision: 0.8336 ,recall: 0.9921 ,val_recall: 0.9778 ,loss: 0.4379 ,val_loss: 0.4672\n",
      "Time elapsed: 176.3669183254242 s\n",
      "----------------------------------------------------------------------------------------------------\n",
      "EPOCH 11: : 104it [00:15,  6.50it/s]\n",
      "--> Metrics:   accuracy: 0.8421 ,val_accuracy: 0.8117 ,precision: 0.8422 ,val_precision: 0.8343 ,recall: 0.9945 ,val_recall: 0.9646 ,loss: 0.4314 ,val_loss: 0.4896\n",
      "Time elapsed: 194.07160687446594 s\n",
      "----------------------------------------------------------------------------------------------------\n",
      "EPOCH 12: : 104it [00:15,  6.63it/s]\n",
      "--> Metrics:   accuracy: 0.8409 ,val_accuracy: 0.8227 ,precision: 0.8434 ,val_precision: 0.8321 ,recall: 0.9911 ,val_recall: 0.9845 ,loss: 0.4319 ,val_loss: 0.4728\n",
      "Time elapsed: 211.57018566131592 s\n",
      "----------------------------------------------------------------------------------------------------\n",
      "EPOCH 13: : 104it [00:15,  6.57it/s]\n",
      "--> Metrics:   accuracy: 0.8467 ,val_accuracy: 0.8194 ,precision: 0.8460 ,val_precision: 0.8314 ,recall: 0.9951 ,val_recall: 0.9811 ,loss: 0.4222 ,val_loss: 0.4786\n",
      "Time elapsed: 229.31277871131897 s\n",
      "----------------------------------------------------------------------------------------------------\n",
      "EPOCH 14: : 104it [00:15,  6.57it/s]\n",
      "--> Metrics:   accuracy: 0.8496 ,val_accuracy: 0.8129 ,precision: 0.8474 ,val_precision: 0.8334 ,recall: 0.9967 ,val_recall: 0.9678 ,loss: 0.4171 ,val_loss: 0.4975\n",
      "Time elapsed: 247.13787722587585 s\n",
      "----------------------------------------------------------------------------------------------------\n",
      "EPOCH 15: : 104it [00:16,  6.21it/s]\n",
      "--> Metrics:   accuracy: 0.8512 ,val_accuracy: 0.8157 ,precision: 0.8493 ,val_precision: 0.8326 ,recall: 0.9964 ,val_recall: 0.9733 ,loss: 0.4134 ,val_loss: 0.4937\n",
      "Time elapsed: 265.4851953983307 s\n",
      "----------------------------------------------------------------------------------------------------\n",
      "EPOCH 16: : 104it [00:15,  6.71it/s]\n",
      "--> Metrics:   accuracy: 0.8508 ,val_accuracy: 0.8218 ,precision: 0.8489 ,val_precision: 0.8324 ,recall: 0.9966 ,val_recall: 0.9827 ,loss: 0.4126 ,val_loss: 0.4909\n",
      "Time elapsed: 283.1517939567566 s\n",
      "----------------------------------------------------------------------------------------------------\n",
      "EPOCH 17: : 104it [00:15,  6.55it/s]\n",
      "--> Metrics:   accuracy: 0.8553 ,val_accuracy: 0.8181 ,precision: 0.8517 ,val_precision: 0.8334 ,recall: 0.9983 ,val_recall: 0.9754 ,loss: 0.4030 ,val_loss: 0.5058\n",
      "Time elapsed: 300.77605724334717 s\n",
      "----------------------------------------------------------------------------------------------------\n",
      "EPOCH 18: : 104it [00:15,  6.54it/s]\n",
      "--> Metrics:   accuracy: 0.8430 ,val_accuracy: 0.8149 ,precision: 0.8533 ,val_precision: 0.8323 ,recall: 0.9785 ,val_recall: 0.9726 ,loss: 0.4115 ,val_loss: 0.5014\n",
      "Time elapsed: 318.68043541908264 s\n",
      "----------------------------------------------------------------------------------------------------\n",
      "EPOCH 19: : 104it [00:16,  6.46it/s]\n",
      "--> Metrics:   accuracy: 0.8545 ,val_accuracy: 0.8125 ,precision: 0.8516 ,val_precision: 0.8325 ,recall: 0.9975 ,val_recall: 0.9687 ,loss: 0.4055 ,val_loss: 0.5146\n",
      "Time elapsed: 336.515398979187 s\n",
      "----------------------------------------------------------------------------------------------------\n",
      "EPOCH 20: : 104it [00:15,  6.57it/s]\n",
      "--> Metrics:   accuracy: 0.8563 ,val_accuracy: 0.8132 ,precision: 0.8518 ,val_precision: 0.8322 ,recall: 0.9987 ,val_recall: 0.9703 ,loss: 0.4004 ,val_loss: 0.5258\n",
      "Time elapsed: 354.11720299720764 s\n",
      "----------------------------------------------------------------------------------------------------\n",
      "EPOCH 21: : 104it [00:16,  6.36it/s]\n",
      "--> Metrics:   accuracy: 0.8577 ,val_accuracy: 0.8218 ,precision: 0.8541 ,val_precision: 0.8326 ,recall: 0.9982 ,val_recall: 0.9824 ,loss: 0.3978 ,val_loss: 0.5117\n",
      "Time elapsed: 372.49526810646057 s\n",
      "----------------------------------------------------------------------------------------------------\n",
      "EPOCH 22: : 104it [00:15,  6.60it/s]\n",
      "--> Metrics:   accuracy: 0.8585 ,val_accuracy: 0.8190 ,precision: 0.8542 ,val_precision: 0.8331 ,recall: 0.9989 ,val_recall: 0.9773 ,loss: 0.3942 ,val_loss: 0.5171\n",
      "Time elapsed: 390.2239682674408 s\n",
      "----------------------------------------------------------------------------------------------------\n",
      "EPOCH 23: : 104it [00:15,  6.83it/s]\n",
      "--> Metrics:   accuracy: 0.8597 ,val_accuracy: 0.8121 ,precision: 0.8551 ,val_precision: 0.8338 ,recall: 0.9992 ,val_recall: 0.9660 ,loss: 0.3923 ,val_loss: 0.5429\n",
      "Time elapsed: 407.1459369659424 s\n",
      "----------------------------------------------------------------------------------------------------\n",
      "EPOCH 24: : 104it [00:15,  6.81it/s]\n",
      "--> Metrics:   accuracy: 0.8602 ,val_accuracy: 0.8114 ,precision: 0.8557 ,val_precision: 0.8346 ,recall: 0.9989 ,val_recall: 0.9639 ,loss: 0.3896 ,val_loss: 0.5652\n",
      "Time elapsed: 424.1037061214447 s\n",
      "----------------------------------------------------------------------------------------------------\n",
      "EPOCH 25: : 104it [00:15,  6.67it/s]\n",
      "--> Metrics:   accuracy: 0.8619 ,val_accuracy: 0.8181 ,precision: 0.8570 ,val_precision: 0.8340 ,recall: 0.9994 ,val_recall: 0.9748 ,loss: 0.3867 ,val_loss: 0.5509\n",
      "Time elapsed: 441.3892230987549 s\n",
      "----------------------------------------------------------------------------------------------------\n",
      "EPOCH 26: : 104it [00:15,  6.67it/s]\n",
      "--> Metrics:   accuracy: 0.8621 ,val_accuracy: 0.8212 ,precision: 0.8574 ,val_precision: 0.8311 ,recall: 0.9989 ,val_recall: 0.9842 ,loss: 0.3846 ,val_loss: 0.5342\n",
      "Time elapsed: 458.97439312934875 s\n",
      "----------------------------------------------------------------------------------------------------\n",
      "EPOCH 27: : 104it [00:15,  6.90it/s]\n",
      "--> Metrics:   accuracy: 0.8609 ,val_accuracy: 0.8160 ,precision: 0.8561 ,val_precision: 0.8327 ,recall: 0.9991 ,val_recall: 0.9737 ,loss: 0.3859 ,val_loss: 0.5459\n",
      "Time elapsed: 475.8047592639923 s\n",
      "----------------------------------------------------------------------------------------------------\n",
      "EPOCH 28: : 104it [00:15,  6.71it/s]\n",
      "--> Metrics:   accuracy: 0.8635 ,val_accuracy: 0.8139 ,precision: 0.8584 ,val_precision: 0.8326 ,recall: 0.9995 ,val_recall: 0.9707 ,loss: 0.3811 ,val_loss: 0.5504\n",
      "Time elapsed: 493.0015926361084 s\n",
      "----------------------------------------------------------------------------------------------------\n",
      "EPOCH 29: : 104it [00:16,  6.40it/s]\n",
      "--> Metrics:   accuracy: 0.8641 ,val_accuracy: 0.8111 ,precision: 0.8588 ,val_precision: 0.8322 ,recall: 0.9996 ,val_recall: 0.9671 ,loss: 0.3780 ,val_loss: 0.5828\n",
      "Time elapsed: 511.07599234580994 s\n",
      "----------------------------------------------------------------------------------------------------\n",
      "EPOCH 30: : 104it [00:16,  6.16it/s]\n",
      "--> Metrics:   accuracy: 0.8627 ,val_accuracy: 0.8252 ,precision: 0.8577 ,val_precision: 0.8322 ,recall: 0.9990 ,val_recall: 0.9883 ,loss: 0.3794 ,val_loss: 0.5248\n",
      "Time elapsed: 529.8374464511871 s\n",
      "----------------------------------------------------------------------------------------------------\n",
      "EPOCH 31: : 104it [00:15,  6.51it/s]\n",
      "--> Metrics:   accuracy: 0.8591 ,val_accuracy: 0.8169 ,precision: 0.8553 ,val_precision: 0.8323 ,recall: 0.9977 ,val_recall: 0.9758 ,loss: 0.3884 ,val_loss: 0.5299\n",
      "Time elapsed: 547.5687479972839 s\n",
      "----------------------------------------------------------------------------------------------------\n",
      "EPOCH 32: : 104it [00:15,  6.68it/s]\n",
      "--> Metrics:   accuracy: 0.8643 ,val_accuracy: 0.8123 ,precision: 0.8592 ,val_precision: 0.8345 ,recall: 0.9994 ,val_recall: 0.9653 ,loss: 0.3762 ,val_loss: 0.5782\n",
      "Time elapsed: 564.8592526912689 s\n",
      "----------------------------------------------------------------------------------------------------\n",
      "EPOCH 33: : 104it [00:15,  6.63it/s]\n",
      "--> Metrics:   accuracy: 0.8627 ,val_accuracy: 0.8180 ,precision: 0.8577 ,val_precision: 0.8327 ,recall: 0.9989 ,val_recall: 0.9769 ,loss: 0.3772 ,val_loss: 0.5607\n",
      "Time elapsed: 582.6097295284271 s\n",
      "----------------------------------------------------------------------------------------------------\n",
      "EPOCH 34: : 104it [00:17,  6.05it/s]\n",
      "--> Metrics:   accuracy: 0.8609 ,val_accuracy: 0.8120 ,precision: 0.8540 ,val_precision: 0.8340 ,recall: 0.9994 ,val_recall: 0.9656 ,loss: 0.3788 ,val_loss: 0.5732\n",
      "Time elapsed: 601.4820756912231 s\n",
      "----------------------------------------------------------------------------------------------------\n",
      "EPOCH 35: : 104it [00:15,  6.59it/s]\n",
      "--> Metrics:   accuracy: 0.8611 ,val_accuracy: 0.8075 ,precision: 0.8566 ,val_precision: 0.8370 ,recall: 0.9985 ,val_recall: 0.9539 ,loss: 0.3781 ,val_loss: 0.6008\n",
      "Time elapsed: 618.9924590587616 s\n",
      "----------------------------------------------------------------------------------------------------\n",
      "EPOCH 36: : 104it [00:16,  6.49it/s]\n",
      "--> Metrics:   accuracy: 0.8655 ,val_accuracy: 0.8123 ,precision: 0.8607 ,val_precision: 0.8352 ,recall: 0.9986 ,val_recall: 0.9637 ,loss: 0.3699 ,val_loss: 0.6118\n",
      "Time elapsed: 636.919835805893 s\n",
      "----------------------------------------------------------------------------------------------------\n",
      "EPOCH 37: : 104it [00:15,  6.58it/s]\n",
      "--> Metrics:   accuracy: 0.8664 ,val_accuracy: 0.8180 ,precision: 0.8614 ,val_precision: 0.8331 ,recall: 0.9989 ,val_recall: 0.9761 ,loss: 0.3673 ,val_loss: 0.6074\n",
      "Time elapsed: 654.4496746063232 s\n",
      "----------------------------------------------------------------------------------------------------\n",
      "EPOCH 38: : 104it [00:16,  6.29it/s]\n",
      "--> Metrics:   accuracy: 0.8654 ,val_accuracy: 0.8154 ,precision: 0.8600 ,val_precision: 0.8349 ,recall: 0.9990 ,val_recall: 0.9687 ,loss: 0.3681 ,val_loss: 0.6227\n",
      "Time elapsed: 672.7489125728607 s\n",
      "----------------------------------------------------------------------------------------------------\n",
      "EPOCH 39: : 104it [00:15,  6.58it/s]\n",
      "--> Metrics:   accuracy: 0.8649 ,val_accuracy: 0.8117 ,precision: 0.8601 ,val_precision: 0.8364 ,recall: 0.9985 ,val_recall: 0.9608 ,loss: 0.3674 ,val_loss: 0.6351\n",
      "Time elapsed: 690.2852246761322 s\n",
      "----------------------------------------------------------------------------------------------------\n",
      "EPOCH 40: : 104it [00:15,  6.56it/s]\n",
      "--> Metrics:   accuracy: 0.8661 ,val_accuracy: 0.8178 ,precision: 0.8612 ,val_precision: 0.8338 ,recall: 0.9986 ,val_recall: 0.9745 ,loss: 0.3661 ,val_loss: 0.5917\n",
      "Time elapsed: 707.8623807430267 s\n",
      "----------------------------------------------------------------------------------------------------\n",
      "EPOCH 41: : 104it [00:16,  6.38it/s]\n",
      "--> Metrics:   accuracy: 0.8634 ,val_accuracy: 0.8235 ,precision: 0.8583 ,val_precision: 0.8348 ,recall: 0.9991 ,val_recall: 0.9812 ,loss: 0.3722 ,val_loss: 0.5937\n",
      "Time elapsed: 726.3654992580414 s\n",
      "----------------------------------------------------------------------------------------------------\n",
      "EPOCH 42: : 104it [00:16,  6.45it/s]\n",
      "--> Metrics:   accuracy: 0.8657 ,val_accuracy: 0.8183 ,precision: 0.8608 ,val_precision: 0.8336 ,recall: 0.9982 ,val_recall: 0.9753 ,loss: 0.3659 ,val_loss: 0.6293\n",
      "Time elapsed: 744.6456477642059 s\n",
      "----------------------------------------------------------------------------------------------------\n",
      "EPOCH 43: : 104it [00:15,  6.56it/s]\n",
      "--> Metrics:   accuracy: 0.8676 ,val_accuracy: 0.8129 ,precision: 0.8619 ,val_precision: 0.8345 ,recall: 0.9995 ,val_recall: 0.9662 ,loss: 0.3661 ,val_loss: 0.6212\n",
      "Time elapsed: 762.2903065681458 s\n",
      "----------------------------------------------------------------------------------------------------\n",
      "EPOCH 44: : 104it [00:15,  6.68it/s]\n",
      "--> Metrics:   accuracy: 0.8654 ,val_accuracy: 0.8138 ,precision: 0.8607 ,val_precision: 0.8380 ,recall: 0.9982 ,val_recall: 0.9615 ,loss: 0.3574 ,val_loss: 0.6219\n",
      "Time elapsed: 779.6706912517548 s\n",
      "----------------------------------------------------------------------------------------------------\n",
      "EPOCH 45: : 104it [00:15,  6.66it/s]\n",
      "--> Metrics:   accuracy: 0.8648 ,val_accuracy: 0.8169 ,precision: 0.8634 ,val_precision: 0.8367 ,recall: 0.9931 ,val_recall: 0.9684 ,loss: 0.3396 ,val_loss: 0.6017\n",
      "Time elapsed: 797.1412196159363 s\n",
      "----------------------------------------------------------------------------------------------------\n",
      "EPOCH 46: : 104it [00:15,  6.83it/s]\n",
      "--> Metrics:   accuracy: 0.8648 ,val_accuracy: 0.8131 ,precision: 0.8643 ,val_precision: 0.8390 ,recall: 0.9920 ,val_recall: 0.9587 ,loss: 0.3284 ,val_loss: 0.5903\n",
      "Time elapsed: 814.3053855895996 s\n",
      "----------------------------------------------------------------------------------------------------\n",
      "EPOCH 47: : 104it [00:15,  6.62it/s]\n",
      "--> Metrics:   accuracy: 0.8632 ,val_accuracy: 0.8193 ,precision: 0.8656 ,val_precision: 0.8360 ,recall: 0.9874 ,val_recall: 0.9729 ,loss: 0.3183 ,val_loss: 0.5370\n",
      "Time elapsed: 831.7920408248901 s\n",
      "----------------------------------------------------------------------------------------------------\n",
      "EPOCH 48: : 104it [00:15,  6.92it/s]\n",
      "--> Metrics:   accuracy: 0.8714 ,val_accuracy: 0.8290 ,precision: 0.8847 ,val_precision: 0.8679 ,recall: 0.9714 ,val_recall: 0.9365 ,loss: 0.2949 ,val_loss: 0.5289\n",
      "Time elapsed: 848.8629879951477 s\n",
      "----------------------------------------------------------------------------------------------------\n",
      "EPOCH 49: : 104it [00:15,  6.63it/s]\n",
      "--> Metrics:   accuracy: 0.8770 ,val_accuracy: 0.8344 ,precision: 0.9015 ,val_precision: 0.8647 ,recall: 0.9551 ,val_recall: 0.9488 ,loss: 0.2863 ,val_loss: 0.5354\n",
      "Time elapsed: 866.2757465839386 s\n",
      "----------------------------------------------------------------------------------------------------\n",
      "EPOCH 50: : 104it [00:15,  6.60it/s]\n",
      "--> Metrics:   accuracy: 0.8809 ,val_accuracy: 0.8326 ,precision: 0.9060 ,val_precision: 0.8735 ,recall: 0.9552 ,val_recall: 0.9331 ,loss: 0.2737 ,val_loss: 0.5474\n",
      "Time elapsed: 883.7594912052155 s\n",
      "----------------------------------------------------------------------------------------------------\n",
      "EPOCH 51: : 104it [00:15,  6.56it/s]\n",
      "--> Metrics:   accuracy: 0.8924 ,val_accuracy: 0.8409 ,precision: 0.9172 ,val_precision: 0.8618 ,recall: 0.9564 ,val_recall: 0.9626 ,loss: 0.2565 ,val_loss: 0.5562\n",
      "Time elapsed: 901.377144575119 s\n",
      "----------------------------------------------------------------------------------------------------\n",
      "EPOCH 52: : 104it [00:16,  6.37it/s]\n",
      "--> Metrics:   accuracy: 0.8954 ,val_accuracy: 0.8386 ,precision: 0.9204 ,val_precision: 0.8716 ,recall: 0.9566 ,val_recall: 0.9450 ,loss: 0.2545 ,val_loss: 0.5426\n",
      "Time elapsed: 919.605810880661 s\n",
      "----------------------------------------------------------------------------------------------------\n",
      "EPOCH 53: : 104it [00:16,  6.46it/s]\n",
      "--> Metrics:   accuracy: 0.8980 ,val_accuracy: 0.8390 ,precision: 0.9242 ,val_precision: 0.8550 ,recall: 0.9556 ,val_recall: 0.9703 ,loss: 0.2487 ,val_loss: 0.5552\n",
      "Time elapsed: 937.4636509418488 s\n",
      "----------------------------------------------------------------------------------------------------\n",
      "EPOCH 54: : 104it [00:15,  6.60it/s]\n",
      "--> Metrics:   accuracy: 0.9073 ,val_accuracy: 0.8368 ,precision: 0.9314 ,val_precision: 0.8876 ,recall: 0.9589 ,val_recall: 0.9194 ,loss: 0.2294 ,val_loss: 0.5331\n",
      "Time elapsed: 954.9593999385834 s\n",
      "----------------------------------------------------------------------------------------------------\n",
      "EPOCH 55: : 104it [00:15,  6.61it/s]\n",
      "--> Metrics:   accuracy: 0.9101 ,val_accuracy: 0.8412 ,precision: 0.9395 ,val_precision: 0.8624 ,recall: 0.9530 ,val_recall: 0.9620 ,loss: 0.2221 ,val_loss: 0.5704\n",
      "Time elapsed: 972.4207603931427 s\n",
      "----------------------------------------------------------------------------------------------------\n",
      "EPOCH 56: : 104it [00:16,  6.33it/s]\n",
      "--> Metrics:   accuracy: 0.9152 ,val_accuracy: 0.8386 ,precision: 0.9385 ,val_precision: 0.8707 ,recall: 0.9607 ,val_recall: 0.9460 ,loss: 0.2115 ,val_loss: 0.5588\n",
      "Time elapsed: 990.6192824840546 s\n",
      "----------------------------------------------------------------------------------------------------\n",
      "EPOCH 57: : 104it [00:16,  6.41it/s]\n",
      "--> Metrics:   accuracy: 0.9223 ,val_accuracy: 0.8390 ,precision: 0.9451 ,val_precision: 0.8829 ,recall: 0.9616 ,val_recall: 0.9290 ,loss: 0.2005 ,val_loss: 0.5353\n",
      "Time elapsed: 1008.8578112125397 s\n",
      "----------------------------------------------------------------------------------------------------\n",
      "EPOCH 58: : 104it [00:16,  6.23it/s]\n",
      "--> Metrics:   accuracy: 0.9280 ,val_accuracy: 0.8466 ,precision: 0.9485 ,val_precision: 0.8913 ,recall: 0.9653 ,val_recall: 0.9280 ,loss: 0.1927 ,val_loss: 0.5414\n",
      "Time elapsed: 1027.6702229976654 s\n",
      "----------------------------------------------------------------------------------------------------\n",
      "EPOCH 59: : 104it [00:16,  6.47it/s]\n",
      "--> Metrics:   accuracy: 0.9348 ,val_accuracy: 0.8461 ,precision: 0.9543 ,val_precision: 0.8950 ,recall: 0.9673 ,val_recall: 0.9225 ,loss: 0.1778 ,val_loss: 0.5596\n",
      "Time elapsed: 1045.5447862148285 s\n",
      "----------------------------------------------------------------------------------------------------\n",
      "EPOCH 60: : 104it [00:15,  6.61it/s]\n",
      "--> Metrics:   accuracy: 0.9395 ,val_accuracy: 0.8463 ,precision: 0.9586 ,val_precision: 0.8768 ,recall: 0.9687 ,val_recall: 0.9478 ,loss: 0.1677 ,val_loss: 0.5791\n",
      "Time elapsed: 1063.006931066513 s\n",
      "----------------------------------------------------------------------------------------------------\n",
      "EPOCH 61: : 104it [00:15,  6.62it/s]\n",
      "--> Metrics:   accuracy: 0.9391 ,val_accuracy: 0.8492 ,precision: 0.9575 ,val_precision: 0.8871 ,recall: 0.9694 ,val_recall: 0.9373 ,loss: 0.1711 ,val_loss: 0.5406\n",
      "Time elapsed: 1080.7203829288483 s\n",
      "----------------------------------------------------------------------------------------------------\n",
      "EPOCH 62: : 104it [00:15,  6.59it/s]\n",
      "--> Metrics:   accuracy: 0.9461 ,val_accuracy: 0.8413 ,precision: 0.9637 ,val_precision: 0.8938 ,recall: 0.9712 ,val_recall: 0.9176 ,loss: 0.1521 ,val_loss: 0.5447\n",
      "Time elapsed: 1098.365252494812 s\n",
      "----------------------------------------------------------------------------------------------------\n",
      "EPOCH 63: : 104it [00:15,  6.71it/s]\n",
      "--> Metrics:   accuracy: 0.9508 ,val_accuracy: 0.8440 ,precision: 0.9672 ,val_precision: 0.9009 ,recall: 0.9736 ,val_recall: 0.9119 ,loss: 0.1427 ,val_loss: 0.5478\n",
      "Time elapsed: 1115.73273062706 s\n",
      "----------------------------------------------------------------------------------------------------\n",
      "EPOCH 64: : 104it [00:15,  6.56it/s]\n",
      "--> Metrics:   accuracy: 0.9530 ,val_accuracy: 0.8514 ,precision: 0.9668 ,val_precision: 0.8832 ,recall: 0.9765 ,val_recall: 0.9458 ,loss: 0.1392 ,val_loss: 0.5684\n",
      "Time elapsed: 1133.4654188156128 s\n",
      "----------------------------------------------------------------------------------------------------\n",
      "EPOCH 65: : 104it [00:15,  6.83it/s]\n",
      "--> Metrics:   accuracy: 0.9566 ,val_accuracy: 0.8443 ,precision: 0.9700 ,val_precision: 0.9072 ,recall: 0.9777 ,val_recall: 0.9045 ,loss: 0.1274 ,val_loss: 0.5516\n",
      "Time elapsed: 1150.431438446045 s\n",
      "----------------------------------------------------------------------------------------------------\n",
      "EPOCH 66: : 104it [00:15,  6.82it/s]\n",
      "--> Metrics:   accuracy: 0.9618 ,val_accuracy: 0.8118 ,precision: 0.9736 ,val_precision: 0.9192 ,recall: 0.9805 ,val_recall: 0.8474 ,loss: 0.1180 ,val_loss: 0.6340\n",
      "Time elapsed: 1167.378187417984 s\n",
      "----------------------------------------------------------------------------------------------------\n",
      "EPOCH 67: : 104it [00:16,  6.33it/s]\n",
      "--> Metrics:   accuracy: 0.9614 ,val_accuracy: 0.8429 ,precision: 0.9725 ,val_precision: 0.8962 ,recall: 0.9811 ,val_recall: 0.9165 ,loss: 0.1183 ,val_loss: 0.6014\n",
      "Time elapsed: 1185.5098185539246 s\n",
      "----------------------------------------------------------------------------------------------------\n",
      "EPOCH 68: : 104it [00:15,  6.62it/s]\n",
      "--> Metrics:   accuracy: 0.9669 ,val_accuracy: 0.8436 ,precision: 0.9766 ,val_precision: 0.8900 ,recall: 0.9835 ,val_recall: 0.9257 ,loss: 0.1073 ,val_loss: 0.5934\n",
      "Time elapsed: 1203.0331325531006 s\n",
      "----------------------------------------------------------------------------------------------------\n",
      "EPOCH 69: : 104it [00:16,  6.22it/s]\n",
      "--> Metrics:   accuracy: 0.9671 ,val_accuracy: 0.8444 ,precision: 0.9762 ,val_precision: 0.8977 ,recall: 0.9842 ,val_recall: 0.9169 ,loss: 0.1035 ,val_loss: 0.6026\n",
      "Time elapsed: 1221.4807875156403 s\n",
      "----------------------------------------------------------------------------------------------------\n",
      "EPOCH 70: : 104it [00:15,  6.54it/s]\n",
      "--> Metrics:   accuracy: 0.9698 ,val_accuracy: 0.8498 ,precision: 0.9777 ,val_precision: 0.9048 ,recall: 0.9859 ,val_recall: 0.9152 ,loss: 0.0959 ,val_loss: 0.6060\n",
      "Time elapsed: 1239.3742096424103 s\n",
      "----------------------------------------------------------------------------------------------------\n",
      "EPOCH 71: : 104it [00:15,  6.87it/s]\n",
      "--> Metrics:   accuracy: 0.9745 ,val_accuracy: 0.8383 ,precision: 0.9816 ,val_precision: 0.8932 ,recall: 0.9875 ,val_recall: 0.9144 ,loss: 0.0876 ,val_loss: 0.6307\n",
      "Time elapsed: 1256.307051897049 s\n",
      "----------------------------------------------------------------------------------------------------\n",
      "EPOCH 72: : 104it [00:15,  6.75it/s]\n",
      "--> Metrics:   accuracy: 0.9747 ,val_accuracy: 0.8478 ,precision: 0.9809 ,val_precision: 0.8928 ,recall: 0.9885 ,val_recall: 0.9276 ,loss: 0.0864 ,val_loss: 0.5964\n",
      "Time elapsed: 1273.7597544193268 s\n",
      "----------------------------------------------------------------------------------------------------\n",
      "EPOCH 73: : 104it [00:15,  6.52it/s]\n",
      "--> Metrics:   accuracy: 0.9758 ,val_accuracy: 0.8388 ,precision: 0.9817 ,val_precision: 0.9007 ,recall: 0.9892 ,val_recall: 0.9051 ,loss: 0.0834 ,val_loss: 0.6391\n",
      "Time elapsed: 1291.4568893909454 s\n",
      "----------------------------------------------------------------------------------------------------\n",
      "EPOCH 74: : 104it [00:15,  6.65it/s]\n",
      "--> Metrics:   accuracy: 0.9754 ,val_accuracy: 0.8269 ,precision: 0.9799 ,val_precision: 0.9077 ,recall: 0.9903 ,val_recall: 0.8807 ,loss: 0.0828 ,val_loss: 0.6605\n",
      "Early-stopping at epoch 74, basis : val_accuracy↓\n",
      "----------------------------------------------------------------------------------------------------\n",
      "Restoring best weights...\n",
      "\tBest epoch: 64\n",
      "\tTraining loss: 0.1392\n",
      "\tValidation loss: 0.5684\n",
      "\tTraining accuracy: 0.9530\n",
      "\tValidation accuracy: 0.8514\n",
      "\tTraining precision: 0.9668\n",
      "\tValidation precision: 0.8832\n",
      "\tTraining recall: 0.9765\n",
      "\tValidation recall: 0.9458\n",
      "Time elapsed: 1308.8575570583344 s\n",
      "----------------------------------------------------------------------------------------------------\n"
     ]
    }
   ],
   "source": [
    "history = trainer.fit(train_dl, val_dl, epochs=100)"
   ],
   "metadata": {
    "collapsed": false,
    "ExecuteTime": {
     "end_time": "2024-12-29T18:32:19.794695100Z",
     "start_time": "2024-12-29T18:10:30.830338100Z"
    }
   }
  },
  {
   "cell_type": "code",
   "execution_count": 92,
   "outputs": [
    {
     "data": {
      "text/plain": "<Figure size 1000x600 with 1 Axes>",
      "image/png": "[encoded data removed]"
     },
     "metadata": {},
     "output_type": "display_data"
    }
   ],
   "source": [
    "trainer.tracker.plot(\"accuracy\", \"val_accuracy\")"
   ],
   "metadata": {
    "collapsed": false,
    "ExecuteTime": {
     "end_time": "2024-12-29T18:32:20.114768800Z",
     "start_time": "2024-12-29T18:32:19.700633700Z"
    }
   }
  },
  {
   "cell_type": "code",
   "execution_count": 93,
   "outputs": [
    {
     "data": {
      "text/plain": "<Figure size 1000x600 with 1 Axes>",
      "image/png": "[encoded data removed]"
     },
     "metadata": {},
     "output_type": "display_data"
    }
   ],
   "source": [
    "trainer.tracker.plot(\"loss\", \"val_loss\")"
   ],
   "metadata": {
    "collapsed": false,
    "ExecuteTime": {
     "end_time": "2024-12-29T18:32:20.485747700Z",
     "start_time": "2024-12-29T18:32:20.118877100Z"
    }
   }
  },
  {
   "cell_type": "code",
   "execution_count": 98,
   "outputs": [
    {
     "name": "stderr",
     "output_type": "stream",
     "text": [
      "Successfully saved progress!\n"
     ]
    }
   ],
   "source": [
    "def save_model(model, path, metric):\n",
    "        if not isinstance(metric, dict) or 'name' not in metric or 'val' not in metric:\n",
    "            raise ValueError(\"Metric dictionary must contain 'name' and 'val' keys.\")\n",
    "\n",
    "        timestamp = datetime.now().strftime(\"%Y-%m-%d_%H-%M-%S\")\n",
    "        save_filename = f\"{timestamp}-{metric['name']}-{metric['val']:.4f}.pt\"\n",
    "        save_path = os.path.join(path, save_filename)\n",
    "\n",
    "        try:\n",
    "            os.makedirs(path, exist_ok=True)\n",
    "            torch.save(model.state_dict(), save_path)\n",
    "            print(f\"Model saved successfully at {save_path}\")\n",
    "        except Exception as e:\n",
    "            print(f\"Failed to save the model: {e}\")"
   ],
   "metadata": {
    "collapsed": false,
    "ExecuteTime": {
     "end_time": "2024-12-29T18:39:16.142306700Z",
     "start_time": "2024-12-29T18:39:14.545950600Z"
    }
   }
  },
  {
   "cell_type": "code",
   "execution_count": 99,
   "outputs": [
    {
     "data": {
      "text/plain": "{'epoch': 64,\n 'accuracy': 0.9530498798076923,\n 'val_accuracy': 0.8513846644427001,\n 'precision': 0.9668210722465543,\n 'val_precision': 0.8831952180144911,\n 'recall': 0.976519459588062,\n 'val_recall': 0.9458020001266818,\n 'loss': 0.13920985724633703,\n 'val_loss': 0.5683508160022589}"
     },
     "execution_count": 99,
     "metadata": {},
     "output_type": "execute_result"
    }
   ],
   "source": [
    "save_model(\n",
    "    model,\n",
    "    \"artifacts/lstm\",\n",
    "    {\"name\":\n",
    "         \"val_accuracy\",\n",
    "     \"val\":\n",
    "         trainer.tracker.metrics['val_accuracy'].records[-1]}\n",
    ")"
   ],
   "metadata": {
    "collapsed": false,
    "ExecuteTime": {
     "end_time": "2024-12-29T18:39:16.656615400Z",
     "start_time": "2024-12-29T18:39:16.629884500Z"
    }
   }
  }
 ],
 "metadata": {
  "kernelspec": {
   "display_name": "Python 3",
   "language": "python",
   "name": "python3"
  },
  "language_info": {
   "codemirror_mode": {
    "name": "ipython",
    "version": 2
   },
   "file_extension": ".py",
   "mimetype": "text/x-python",
   "name": "python",
   "nbconvert_exporter": "python",
   "pygments_lexer": "ipython2",
   "version": "2.7.6"
  }
 },
 "nbformat": 4,
 "nbformat_minor": 0
}
