{
 "cells": [
  {
   "cell_type": "code",
   "execution_count": 1,
   "metadata": {
    "collapsed": true,
    "jupyter": {
     "outputs_hidden": true
    },
    "ExecuteTime": {
     "end_time": "2024-12-29T13:44:42.585325100Z",
     "start_time": "2024-12-29T13:44:36.232719200Z"
    }
   },
   "outputs": [],
   "source": [
    "import os.path\n",
    "\n",
    "import pandas as pd\n",
    "import torch\n",
    "from transformers import AutoTokenizer\n",
    "from torch.utils.data import DataLoader, TensorDataset\n",
    "from sklearn.model_selection import train_test_split"
   ]
  },
  {
   "cell_type": "code",
   "execution_count": 2,
   "metadata": {
    "collapsed": false,
    "jupyter": {
     "outputs_hidden": false
    },
    "ExecuteTime": {
     "end_time": "2024-12-29T13:44:42.757135100Z",
     "start_time": "2024-12-29T13:44:42.587321700Z"
    }
   },
   "outputs": [],
   "source": [
    "data = pd.read_csv(\"data/preprocessed/cleaned.csv\")"
   ]
  },
  {
   "cell_type": "code",
   "execution_count": 3,
   "metadata": {
    "collapsed": false,
    "jupyter": {
     "outputs_hidden": false
    },
    "ExecuteTime": {
     "end_time": "2024-12-29T13:44:43.484690900Z",
     "start_time": "2024-12-29T13:44:42.755633800Z"
    }
   },
   "outputs": [],
   "source": [
    "tokenizer = AutoTokenizer.from_pretrained('bert-base-uncased')"
   ]
  },
  {
   "cell_type": "code",
   "execution_count": 4,
   "metadata": {
    "collapsed": false,
    "jupyter": {
     "outputs_hidden": false
    },
    "ExecuteTime": {
     "end_time": "2024-12-29T13:44:43.488846100Z",
     "start_time": "2024-12-29T13:44:43.484690900Z"
    }
   },
   "outputs": [],
   "source": [
    "def tokenize_function(text):\n",
    "    return tokenizer(text, padding=True, truncation=True, max_length=128, return_tensors='pt')"
   ]
  },
  {
   "cell_type": "code",
   "execution_count": 5,
   "metadata": {
    "collapsed": false,
    "jupyter": {
     "outputs_hidden": false
    },
    "ExecuteTime": {
     "end_time": "2024-12-29T13:44:45.106059900Z",
     "start_time": "2024-12-29T13:44:43.489844100Z"
    }
   },
   "outputs": [],
   "source": [
    "tokenized = tokenize_function(data['review_text'].tolist())"
   ]
  },
  {
   "cell_type": "code",
   "execution_count": 6,
   "metadata": {
    "collapsed": false,
    "jupyter": {
     "outputs_hidden": false
    },
    "ExecuteTime": {
     "end_time": "2024-12-29T13:44:45.223920300Z",
     "start_time": "2024-12-29T13:44:45.107057900Z"
    }
   },
   "outputs": [],
   "source": [
    "# Convert tensors to list format and assign them correctly\n",
    "data['input_ids'] = tokenized['input_ids'].squeeze().tolist()\n",
    "data['token_type_ids'] = tokenized['token_type_ids'].squeeze().tolist()\n",
    "data['attention_mask'] = tokenized['attention_mask'].squeeze().tolist()"
   ]
  },
  {
   "cell_type": "code",
   "execution_count": 7,
   "metadata": {
    "collapsed": false,
    "jupyter": {
     "outputs_hidden": false
    },
    "ExecuteTime": {
     "end_time": "2024-12-29T13:44:45.239831600Z",
     "start_time": "2024-12-29T13:44:45.225919900Z"
    }
   },
   "outputs": [
    {
     "data": {
      "text/plain": "0        [101, 2220, 3229, 3319, 102, 0, 0, 0, 0, 0, 0,...\n1        [101, 2339, 2180, 2102, 2023, 8816, 102, 0, 0,...\n2        [101, 2428, 10392, 2208, 3325, 1037, 5257, 199...\n3        [101, 2175, 2041, 2006, 2019, 6172, 1010, 2022...\n4        [101, 1996, 2190, 2517, 2208, 1045, 2031, 2412...\n                               ...                        \n16484    [101, 2070, 2335, 2023, 2208, 2097, 1625, 3015...\n16485    [101, 2428, 5024, 5519, 6293, 13108, 2007, 438...\n16486    [101, 3565, 2567, 102, 0, 0, 0, 0, 0, 0, 0, 0,...\n16487    [101, 10424, 8004, 11528, 12476, 2021, 2025, 3...\n16488    [101, 2023, 2208, 2003, 2428, 12476, 1012, 229...\nName: input_ids, Length: 16489, dtype: object"
     },
     "execution_count": 7,
     "metadata": {},
     "output_type": "execute_result"
    }
   ],
   "source": [
    "data['input_ids']"
   ]
  },
  {
   "cell_type": "code",
   "execution_count": 8,
   "metadata": {
    "collapsed": false,
    "jupyter": {
     "outputs_hidden": false
    },
    "ExecuteTime": {
     "end_time": "2024-12-29T13:44:45.274766900Z",
     "start_time": "2024-12-29T13:44:45.237827900Z"
    }
   },
   "outputs": [
    {
     "data": {
      "text/plain": "       app_id                                 app_name  \\\n0      252490                                     Rust   \n1      107410                                   Arma 3   \n2      459010  Ghost Town Mine Ride & Shootin' Gallery   \n3        8930               Sid Meier's Civilization V   \n4      108710                                Alan Wake   \n...       ...                                      ...   \n16484  255710                         Cities: Skylines   \n16485  250110                   Assault Android Cactus   \n16486  205950                            Jet Set Radio   \n16487  377160                                Fallout 4   \n16488  233270                  Far Cry® 3 Blood Dragon   \n\n                                             review_text  review_score urls  \\\n0                                    early access review             1   []   \n1                                 why wont this download             1   []   \n2      really fantastic game experience a combination...             1   []   \n3      go out on an adventure, be honerouble, get res...             1   []   \n4      the best written game i have ever played as we...             1   []   \n...                                                  ...           ...  ...   \n16484  some times this game will ♥♥♥♥ you over realy ...             1   []   \n16485  really solid twin stick shooter with tight con...             1   []   \n16486                                      super brother             1   []   \n16487  friggin awesome but not quite as good as fnv yet.             1   []   \n16488  this game is really awesome. though the story ...             1   []   \n\n       contains_url                                           raw_text  \\\n0             False                                Early Access Review   \n1             False                         ? why won't this download    \n2             False  Really fantastic game experience - a combinati...   \n3             False  Go out on an adventure, be honerouble, get res...   \n4             False  The best written game I have ever played as we...   \n...             ...                                                ...   \n16484         False  some times this game will ♥♥♥♥ YOU OVER REALY ...   \n16485         False  Really solid twin stick shooter with tight con...   \n16486         False                                      Super brother   \n16487         False  Friggin awesome but not quite as good as FNV.....   \n16488         False  This game is really awesome. Though the story ...   \n\n       review_length  word_counts  \\\n0                 19            3   \n1                 22            4   \n2                390           70   \n3               1377          256   \n4                537          103   \n...              ...          ...   \n16484            188           41   \n16485            849          149   \n16486             13            2   \n16487             49           10   \n16488            135           25   \n\n                                               input_ids  \\\n0      [101, 2220, 3229, 3319, 102, 0, 0, 0, 0, 0, 0,...   \n1      [101, 2339, 2180, 2102, 2023, 8816, 102, 0, 0,...   \n2      [101, 2428, 10392, 2208, 3325, 1037, 5257, 199...   \n3      [101, 2175, 2041, 2006, 2019, 6172, 1010, 2022...   \n4      [101, 1996, 2190, 2517, 2208, 1045, 2031, 2412...   \n...                                                  ...   \n16484  [101, 2070, 2335, 2023, 2208, 2097, 1625, 3015...   \n16485  [101, 2428, 5024, 5519, 6293, 13108, 2007, 438...   \n16486  [101, 3565, 2567, 102, 0, 0, 0, 0, 0, 0, 0, 0,...   \n16487  [101, 10424, 8004, 11528, 12476, 2021, 2025, 3...   \n16488  [101, 2023, 2208, 2003, 2428, 12476, 1012, 229...   \n\n                                          token_type_ids  \\\n0      [0, 0, 0, 0, 0, 0, 0, 0, 0, 0, 0, 0, 0, 0, 0, ...   \n1      [0, 0, 0, 0, 0, 0, 0, 0, 0, 0, 0, 0, 0, 0, 0, ...   \n2      [0, 0, 0, 0, 0, 0, 0, 0, 0, 0, 0, 0, 0, 0, 0, ...   \n3      [0, 0, 0, 0, 0, 0, 0, 0, 0, 0, 0, 0, 0, 0, 0, ...   \n4      [0, 0, 0, 0, 0, 0, 0, 0, 0, 0, 0, 0, 0, 0, 0, ...   \n...                                                  ...   \n16484  [0, 0, 0, 0, 0, 0, 0, 0, 0, 0, 0, 0, 0, 0, 0, ...   \n16485  [0, 0, 0, 0, 0, 0, 0, 0, 0, 0, 0, 0, 0, 0, 0, ...   \n16486  [0, 0, 0, 0, 0, 0, 0, 0, 0, 0, 0, 0, 0, 0, 0, ...   \n16487  [0, 0, 0, 0, 0, 0, 0, 0, 0, 0, 0, 0, 0, 0, 0, ...   \n16488  [0, 0, 0, 0, 0, 0, 0, 0, 0, 0, 0, 0, 0, 0, 0, ...   \n\n                                          attention_mask  \n0      [1, 1, 1, 1, 1, 0, 0, 0, 0, 0, 0, 0, 0, 0, 0, ...  \n1      [1, 1, 1, 1, 1, 1, 1, 0, 0, 0, 0, 0, 0, 0, 0, ...  \n2      [1, 1, 1, 1, 1, 1, 1, 1, 1, 1, 1, 1, 1, 1, 1, ...  \n3      [1, 1, 1, 1, 1, 1, 1, 1, 1, 1, 1, 1, 1, 1, 1, ...  \n4      [1, 1, 1, 1, 1, 1, 1, 1, 1, 1, 1, 1, 1, 1, 1, ...  \n...                                                  ...  \n16484  [1, 1, 1, 1, 1, 1, 1, 1, 1, 1, 1, 1, 1, 1, 1, ...  \n16485  [1, 1, 1, 1, 1, 1, 1, 1, 1, 1, 1, 1, 1, 1, 1, ...  \n16486  [1, 1, 1, 1, 0, 0, 0, 0, 0, 0, 0, 0, 0, 0, 0, ...  \n16487  [1, 1, 1, 1, 1, 1, 1, 1, 1, 1, 1, 1, 1, 1, 1, ...  \n16488  [1, 1, 1, 1, 1, 1, 1, 1, 1, 1, 1, 1, 1, 1, 1, ...  \n\n[16489 rows x 12 columns]",
      "text/html": "<div>\n<style scoped>\n    .dataframe tbody tr th:only-of-type {\n        vertical-align: middle;\n    }\n\n    .dataframe tbody tr th {\n        vertical-align: top;\n    }\n\n    .dataframe thead th {\n        text-align: right;\n    }\n</style>\n<table border=\"1\" class=\"dataframe\">\n  <thead>\n    <tr style=\"text-align: right;\">\n      <th></th>\n      <th>app_id</th>\n      <th>app_name</th>\n      <th>review_text</th>\n      <th>review_score</th>\n      <th>urls</th>\n      <th>contains_url</th>\n      <th>raw_text</th>\n      <th>review_length</th>\n      <th>word_counts</th>\n      <th>input_ids</th>\n      <th>token_type_ids</th>\n      <th>attention_mask</th>\n    </tr>\n  </thead>\n  <tbody>\n    <tr>\n      <th>0</th>\n      <td>252490</td>\n      <td>Rust</td>\n      <td>early access review</td>\n      <td>1</td>\n      <td>[]</td>\n      <td>False</td>\n      <td>Early Access Review</td>\n      <td>19</td>\n      <td>3</td>\n      <td>[101, 2220, 3229, 3319, 102, 0, 0, 0, 0, 0, 0,...</td>\n      <td>[0, 0, 0, 0, 0, 0, 0, 0, 0, 0, 0, 0, 0, 0, 0, ...</td>\n      <td>[1, 1, 1, 1, 1, 0, 0, 0, 0, 0, 0, 0, 0, 0, 0, ...</td>\n    </tr>\n    <tr>\n      <th>1</th>\n      <td>107410</td>\n      <td>Arma 3</td>\n      <td>why wont this download</td>\n      <td>1</td>\n      <td>[]</td>\n      <td>False</td>\n      <td>? why won't this download</td>\n      <td>22</td>\n      <td>4</td>\n      <td>[101, 2339, 2180, 2102, 2023, 8816, 102, 0, 0,...</td>\n      <td>[0, 0, 0, 0, 0, 0, 0, 0, 0, 0, 0, 0, 0, 0, 0, ...</td>\n      <td>[1, 1, 1, 1, 1, 1, 1, 0, 0, 0, 0, 0, 0, 0, 0, ...</td>\n    </tr>\n    <tr>\n      <th>2</th>\n      <td>459010</td>\n      <td>Ghost Town Mine Ride &amp; Shootin' Gallery</td>\n      <td>really fantastic game experience a combination...</td>\n      <td>1</td>\n      <td>[]</td>\n      <td>False</td>\n      <td>Really fantastic game experience - a combinati...</td>\n      <td>390</td>\n      <td>70</td>\n      <td>[101, 2428, 10392, 2208, 3325, 1037, 5257, 199...</td>\n      <td>[0, 0, 0, 0, 0, 0, 0, 0, 0, 0, 0, 0, 0, 0, 0, ...</td>\n      <td>[1, 1, 1, 1, 1, 1, 1, 1, 1, 1, 1, 1, 1, 1, 1, ...</td>\n    </tr>\n    <tr>\n      <th>3</th>\n      <td>8930</td>\n      <td>Sid Meier's Civilization V</td>\n      <td>go out on an adventure, be honerouble, get res...</td>\n      <td>1</td>\n      <td>[]</td>\n      <td>False</td>\n      <td>Go out on an adventure, be honerouble, get res...</td>\n      <td>1377</td>\n      <td>256</td>\n      <td>[101, 2175, 2041, 2006, 2019, 6172, 1010, 2022...</td>\n      <td>[0, 0, 0, 0, 0, 0, 0, 0, 0, 0, 0, 0, 0, 0, 0, ...</td>\n      <td>[1, 1, 1, 1, 1, 1, 1, 1, 1, 1, 1, 1, 1, 1, 1, ...</td>\n    </tr>\n    <tr>\n      <th>4</th>\n      <td>108710</td>\n      <td>Alan Wake</td>\n      <td>the best written game i have ever played as we...</td>\n      <td>1</td>\n      <td>[]</td>\n      <td>False</td>\n      <td>The best written game I have ever played as we...</td>\n      <td>537</td>\n      <td>103</td>\n      <td>[101, 1996, 2190, 2517, 2208, 1045, 2031, 2412...</td>\n      <td>[0, 0, 0, 0, 0, 0, 0, 0, 0, 0, 0, 0, 0, 0, 0, ...</td>\n      <td>[1, 1, 1, 1, 1, 1, 1, 1, 1, 1, 1, 1, 1, 1, 1, ...</td>\n    </tr>\n    <tr>\n      <th>...</th>\n      <td>...</td>\n      <td>...</td>\n      <td>...</td>\n      <td>...</td>\n      <td>...</td>\n      <td>...</td>\n      <td>...</td>\n      <td>...</td>\n      <td>...</td>\n      <td>...</td>\n      <td>...</td>\n      <td>...</td>\n    </tr>\n    <tr>\n      <th>16484</th>\n      <td>255710</td>\n      <td>Cities: Skylines</td>\n      <td>some times this game will ♥♥♥♥ you over realy ...</td>\n      <td>1</td>\n      <td>[]</td>\n      <td>False</td>\n      <td>some times this game will ♥♥♥♥ YOU OVER REALY ...</td>\n      <td>188</td>\n      <td>41</td>\n      <td>[101, 2070, 2335, 2023, 2208, 2097, 1625, 3015...</td>\n      <td>[0, 0, 0, 0, 0, 0, 0, 0, 0, 0, 0, 0, 0, 0, 0, ...</td>\n      <td>[1, 1, 1, 1, 1, 1, 1, 1, 1, 1, 1, 1, 1, 1, 1, ...</td>\n    </tr>\n    <tr>\n      <th>16485</th>\n      <td>250110</td>\n      <td>Assault Android Cactus</td>\n      <td>really solid twin stick shooter with tight con...</td>\n      <td>1</td>\n      <td>[]</td>\n      <td>False</td>\n      <td>Really solid twin stick shooter with tight con...</td>\n      <td>849</td>\n      <td>149</td>\n      <td>[101, 2428, 5024, 5519, 6293, 13108, 2007, 438...</td>\n      <td>[0, 0, 0, 0, 0, 0, 0, 0, 0, 0, 0, 0, 0, 0, 0, ...</td>\n      <td>[1, 1, 1, 1, 1, 1, 1, 1, 1, 1, 1, 1, 1, 1, 1, ...</td>\n    </tr>\n    <tr>\n      <th>16486</th>\n      <td>205950</td>\n      <td>Jet Set Radio</td>\n      <td>super brother</td>\n      <td>1</td>\n      <td>[]</td>\n      <td>False</td>\n      <td>Super brother</td>\n      <td>13</td>\n      <td>2</td>\n      <td>[101, 3565, 2567, 102, 0, 0, 0, 0, 0, 0, 0, 0,...</td>\n      <td>[0, 0, 0, 0, 0, 0, 0, 0, 0, 0, 0, 0, 0, 0, 0, ...</td>\n      <td>[1, 1, 1, 1, 0, 0, 0, 0, 0, 0, 0, 0, 0, 0, 0, ...</td>\n    </tr>\n    <tr>\n      <th>16487</th>\n      <td>377160</td>\n      <td>Fallout 4</td>\n      <td>friggin awesome but not quite as good as fnv yet.</td>\n      <td>1</td>\n      <td>[]</td>\n      <td>False</td>\n      <td>Friggin awesome but not quite as good as FNV.....</td>\n      <td>49</td>\n      <td>10</td>\n      <td>[101, 10424, 8004, 11528, 12476, 2021, 2025, 3...</td>\n      <td>[0, 0, 0, 0, 0, 0, 0, 0, 0, 0, 0, 0, 0, 0, 0, ...</td>\n      <td>[1, 1, 1, 1, 1, 1, 1, 1, 1, 1, 1, 1, 1, 1, 1, ...</td>\n    </tr>\n    <tr>\n      <th>16488</th>\n      <td>233270</td>\n      <td>Far Cry® 3 Blood Dragon</td>\n      <td>this game is really awesome. though the story ...</td>\n      <td>1</td>\n      <td>[]</td>\n      <td>False</td>\n      <td>This game is really awesome. Though the story ...</td>\n      <td>135</td>\n      <td>25</td>\n      <td>[101, 2023, 2208, 2003, 2428, 12476, 1012, 229...</td>\n      <td>[0, 0, 0, 0, 0, 0, 0, 0, 0, 0, 0, 0, 0, 0, 0, ...</td>\n      <td>[1, 1, 1, 1, 1, 1, 1, 1, 1, 1, 1, 1, 1, 1, 1, ...</td>\n    </tr>\n  </tbody>\n</table>\n<p>16489 rows × 12 columns</p>\n</div>"
     },
     "execution_count": 8,
     "metadata": {},
     "output_type": "execute_result"
    }
   ],
   "source": [
    "data"
   ]
  },
  {
   "cell_type": "code",
   "execution_count": 9,
   "metadata": {
    "collapsed": false,
    "jupyter": {
     "outputs_hidden": false
    },
    "ExecuteTime": {
     "end_time": "2024-12-29T13:44:45.277683100Z",
     "start_time": "2024-12-29T13:44:45.273347400Z"
    }
   },
   "outputs": [],
   "source": [
    "from sklearn.model_selection import train_test_split"
   ]
  },
  {
   "cell_type": "code",
   "execution_count": 10,
   "metadata": {
    "collapsed": false,
    "jupyter": {
     "outputs_hidden": false
    },
    "ExecuteTime": {
     "end_time": "2024-12-29T13:44:45.287281600Z",
     "start_time": "2024-12-29T13:44:45.278757Z"
    }
   },
   "outputs": [],
   "source": [
    "X_train, X_test, y_train, y_test = train_test_split(data[['input_ids']], data['review_score'], test_size=0.2,random_state=42)"
   ]
  },
  {
   "cell_type": "code",
   "execution_count": 11,
   "metadata": {
    "collapsed": false,
    "jupyter": {
     "outputs_hidden": false
    },
    "ExecuteTime": {
     "end_time": "2024-12-29T13:44:45.308788500Z",
     "start_time": "2024-12-29T13:44:45.288282600Z"
    }
   },
   "outputs": [
    {
     "data": {
      "text/plain": "128"
     },
     "execution_count": 11,
     "metadata": {},
     "output_type": "execute_result"
    }
   ],
   "source": [
    "len(X_train['input_ids'].iloc[0])\n",
    "len(X_train['input_ids'].iloc[1])"
   ]
  },
  {
   "cell_type": "code",
   "execution_count": 12,
   "metadata": {
    "collapsed": false,
    "jupyter": {
     "outputs_hidden": false
    },
    "ExecuteTime": {
     "end_time": "2024-12-29T13:44:45.530202500Z",
     "start_time": "2024-12-29T13:44:45.294528800Z"
    }
   },
   "outputs": [
    {
     "data": {
      "text/plain": "tensor([[  101,  2023,  1998,  ...,     0,     0,     0],\n        [  101,  2023,  2208,  ...,     0,     0,     0],\n        [  101,  2428,  5959,  ...,     0,     0,     0],\n        ...,\n        [  101,  8680,  2208,  ...,     0,     0,     0],\n        [  101,  1045,  2123,  ...,     0,     0,     0],\n        [  101, 25430,  8490,  ...,     0,     0,     0]])"
     },
     "execution_count": 12,
     "metadata": {},
     "output_type": "execute_result"
    }
   ],
   "source": [
    "torch.tensor(X_train['input_ids'].tolist())"
   ]
  },
  {
   "cell_type": "code",
   "execution_count": 13,
   "metadata": {
    "collapsed": false,
    "jupyter": {
     "outputs_hidden": false
    },
    "ExecuteTime": {
     "end_time": "2024-12-29T13:44:45.534484100Z",
     "start_time": "2024-12-29T13:44:45.531252900Z"
    }
   },
   "outputs": [],
   "source": [
    "from torch.utils.data import Dataset, DataLoader"
   ]
  },
  {
   "cell_type": "code",
   "execution_count": 14,
   "metadata": {
    "collapsed": false,
    "jupyter": {
     "outputs_hidden": false
    },
    "ExecuteTime": {
     "end_time": "2024-12-29T13:44:45.543999400Z",
     "start_time": "2024-12-29T13:44:45.539682900Z"
    }
   },
   "outputs": [],
   "source": [
    "class RatingDataset(Dataset):\n",
    "    def __init__(self, ids: pd.DataFrame, labels: pd.Series):\n",
    "        self.ids = torch.tensor(ids['input_ids'].tolist(), dtype=torch.long)\n",
    "        self.labels = torch.tensor(labels.tolist(), dtype=torch.float).unsqueeze(1)\n",
    "\n",
    "    def __len__(self):\n",
    "        return len(self.ids)\n",
    "\n",
    "    def __getitem__(self, idx):\n",
    "        return self.ids[idx], self.labels[idx]\n"
   ]
  },
  {
   "cell_type": "code",
   "execution_count": 15,
   "metadata": {
    "collapsed": false,
    "jupyter": {
     "outputs_hidden": false
    },
    "ExecuteTime": {
     "end_time": "2024-12-29T13:44:45.700681500Z",
     "start_time": "2024-12-29T13:44:45.545002100Z"
    }
   },
   "outputs": [],
   "source": [
    "train_ds = RatingDataset(X_train, y_train)\n",
    "val_ds = RatingDataset(X_test, y_test)"
   ]
  },
  {
   "cell_type": "code",
   "execution_count": 16,
   "metadata": {
    "collapsed": false,
    "jupyter": {
     "outputs_hidden": false
    },
    "ExecuteTime": {
     "end_time": "2024-12-29T13:44:45.704288700Z",
     "start_time": "2024-12-29T13:44:45.700681500Z"
    }
   },
   "outputs": [],
   "source": [
    "train_dl = DataLoader(train_ds, batch_size=128, shuffle=True)\n",
    "val_dl = DataLoader(val_ds, batch_size=128, shuffle=False)"
   ]
  },
  {
   "cell_type": "code",
   "execution_count": 17,
   "metadata": {
    "collapsed": false,
    "jupyter": {
     "outputs_hidden": false
    },
    "ExecuteTime": {
     "end_time": "2024-12-29T13:44:45.713507200Z",
     "start_time": "2024-12-29T13:44:45.706290600Z"
    }
   },
   "outputs": [
    {
     "data": {
      "text/plain": "(torch.Size([128, 128]), torch.Size([128, 1]))"
     },
     "execution_count": 17,
     "metadata": {},
     "output_type": "execute_result"
    }
   ],
   "source": [
    "texts, labels = next(iter(train_dl))\n",
    "texts.shape, labels.shape"
   ]
  },
  {
   "cell_type": "code",
   "execution_count": 18,
   "metadata": {
    "collapsed": false,
    "jupyter": {
     "outputs_hidden": false
    },
    "ExecuteTime": {
     "end_time": "2024-12-29T13:44:45.717981800Z",
     "start_time": "2024-12-29T13:44:45.714508300Z"
    }
   },
   "outputs": [
    {
     "data": {
      "text/plain": "'[CLS] absolutely, awesome definite buy but better with dlc. [SEP] [PAD] [PAD] [PAD] [PAD] [PAD] [PAD] [PAD] [PAD] [PAD] [PAD] [PAD] [PAD] [PAD] [PAD] [PAD] [PAD] [PAD] [PAD] [PAD] [PAD] [PAD] [PAD] [PAD] [PAD] [PAD] [PAD] [PAD] [PAD] [PAD] [PAD] [PAD] [PAD] [PAD] [PAD] [PAD] [PAD] [PAD] [PAD] [PAD] [PAD] [PAD] [PAD] [PAD] [PAD] [PAD] [PAD] [PAD] [PAD] [PAD] [PAD] [PAD] [PAD] [PAD] [PAD] [PAD] [PAD] [PAD] [PAD] [PAD] [PAD] [PAD] [PAD] [PAD] [PAD] [PAD] [PAD] [PAD] [PAD] [PAD] [PAD] [PAD] [PAD] [PAD] [PAD] [PAD] [PAD] [PAD] [PAD] [PAD] [PAD] [PAD] [PAD] [PAD] [PAD] [PAD] [PAD] [PAD] [PAD] [PAD] [PAD] [PAD] [PAD] [PAD] [PAD] [PAD] [PAD] [PAD] [PAD] [PAD] [PAD] [PAD] [PAD] [PAD] [PAD] [PAD] [PAD] [PAD] [PAD] [PAD] [PAD] [PAD] [PAD] [PAD] [PAD] [PAD]'"
     },
     "execution_count": 18,
     "metadata": {},
     "output_type": "execute_result"
    }
   ],
   "source": [
    "tokenizer.decode(texts[0])"
   ]
  },
  {
   "cell_type": "code",
   "execution_count": 19,
   "metadata": {
    "collapsed": false,
    "jupyter": {
     "outputs_hidden": false
    },
    "ExecuteTime": {
     "end_time": "2024-12-29T13:44:45.774829400Z",
     "start_time": "2024-12-29T13:44:45.718993400Z"
    }
   },
   "outputs": [
    {
     "data": {
      "text/plain": "tensor([  101,  7078,  1010, 12476, 15298,  4965,  2021,  2488,  2007, 21469,\n         2278,  1012,   102,     0,     0,     0,     0,     0,     0,     0,\n            0,     0,     0,     0,     0,     0,     0,     0,     0,     0,\n            0,     0,     0,     0,     0,     0,     0,     0,     0,     0,\n            0,     0,     0,     0,     0,     0,     0,     0,     0,     0,\n            0,     0,     0,     0,     0,     0,     0,     0,     0,     0,\n            0,     0,     0,     0,     0,     0,     0,     0,     0,     0,\n            0,     0,     0,     0,     0,     0,     0,     0,     0,     0,\n            0,     0,     0,     0,     0,     0,     0,     0,     0,     0,\n            0,     0,     0,     0,     0,     0,     0,     0,     0,     0,\n            0,     0,     0,     0,     0,     0,     0,     0,     0,     0,\n            0,     0,     0,     0,     0,     0,     0,     0,     0,     0,\n            0,     0,     0,     0,     0,     0,     0,     0])"
     },
     "execution_count": 19,
     "metadata": {},
     "output_type": "execute_result"
    }
   ],
   "source": [
    "texts[0]"
   ]
  },
  {
   "cell_type": "code",
   "execution_count": 20,
   "metadata": {
    "collapsed": false,
    "jupyter": {
     "outputs_hidden": false
    },
    "ExecuteTime": {
     "end_time": "2024-12-29T13:44:45.774829400Z",
     "start_time": "2024-12-29T13:44:45.725229300Z"
    }
   },
   "outputs": [],
   "source": [
    "import torch.nn as nn\n",
    "from torch import optim"
   ]
  },
  {
   "cell_type": "code",
   "execution_count": 21,
   "metadata": {
    "collapsed": false,
    "jupyter": {
     "outputs_hidden": false
    },
    "ExecuteTime": {
     "end_time": "2024-12-29T13:44:45.775829300Z",
     "start_time": "2024-12-29T13:44:45.730076500Z"
    }
   },
   "outputs": [],
   "source": [
    "# class SentimentLSTM(nn.Module):\n",
    "#     def __init__(self, vocab_length, maxlen):\n",
    "#         super(SentimentLSTM, self).__init__()\n",
    "#         self.embedding = nn.Embedding(num_embeddings=vocab_length, embedding_dim=128, max_norm=maxlen)\n",
    "#         self.bidirectional_lstm = nn.LSTM(input_size=128, hidden_size=128, batch_first=True, bidirectional=True)\n",
    "#         self.gru = nn.GRU(input_size=256, hidden_size=64, batch_first=True)  # 256: 128 * 2 for bidirectional LSTM\n",
    "#         self.lstm = nn.LSTM(input_size=64, hidden_size=64, batch_first=True)\n",
    "#         self.fc1 = nn.Linear(in_features=64, out_features=16)\n",
    "#         self.bn = nn.BatchNorm1d(num_features=16)\n",
    "#         self.dropout = nn.Dropout(0.1)\n",
    "#         self.output = nn.Linear(in_features=16, out_features=1)\n",
    "#\n",
    "#     def forward(self, x):\n",
    "#         x = self.embedding(x)\n",
    "#         x, _ = self.bidirectional_lstm(x)\n",
    "#         x, _ = self.gru(x)\n",
    "#         x, _ = self.lstm(x)\n",
    "#         x = x[:, -1, :]  # Take the last time step's output\n",
    "#         x = self.fc1(x)\n",
    "#         x = nn.ReLU()(x)\n",
    "#         x = self.bn(x)\n",
    "#         x = self.dropout(x)\n",
    "#         x = self.output(x)\n",
    "#         return x"
   ]
  },
  {
   "cell_type": "code",
   "execution_count": 22,
   "metadata": {
    "collapsed": false,
    "jupyter": {
     "outputs_hidden": false
    },
    "ExecuteTime": {
     "end_time": "2024-12-29T13:44:45.775829300Z",
     "start_time": "2024-12-29T13:44:45.735694400Z"
    }
   },
   "outputs": [],
   "source": [
    "# class Attention(nn.Module):\n",
    "#     def __init__(self, hidden_size):\n",
    "#         super(Attention, self).__init__()\n",
    "#         self.attention = nn.Linear(hidden_size, 1)\n",
    "#\n",
    "#     def forward(self, x):\n",
    "#         # x: (batch_size, seq_length, hidden_size)\n",
    "#         scores = self.attention(x).squeeze(-1)  # (batch_size, seq_length)\n",
    "#         weights = nn.functional.softmax(scores, dim=1)  # (batch_size, seq_length)\n",
    "#         output = (x * weights.unsqueeze(-1)).sum(dim=1)  # (batch_size, hidden_size)\n",
    "#         return output, weights\n",
    "#\n",
    "#\n",
    "# class SentimentLSTM(nn.Module):\n",
    "#     def __init__(self, vocab_length):\n",
    "#         super(SentimentLSTM, self).__init__()\n",
    "#         self.embedding = nn.Embedding(num_embeddings=vocab_length, embedding_dim=256, padding_idx=0)\n",
    "#         self.bidirectional_lstm = nn.LSTM(input_size=256, hidden_size=128, batch_first=True, bidirectional=True)\n",
    "#         self.transition = nn.Linear(256, 256)\n",
    "#         self.attention = Attention(hidden_size=256)  # BiLSTM hidden_dim * 2\n",
    "#         self.gru = nn.GRU(input_size=256, hidden_size=128, batch_first=True)\n",
    "#         self.fc1 = nn.Linear(in_features=128, out_features=64)\n",
    "#         self.bn1 = nn.BatchNorm1d(num_features=64)\n",
    "#         self.dropout1 = nn.Dropout(0.3)\n",
    "#         self.fc2 = nn.Linear(in_features=64, out_features=16)\n",
    "#         self.bn2 = nn.BatchNorm1d(num_features=16)\n",
    "#         self.dropout2 = nn.Dropout(0.3)\n",
    "#         self.output = nn.Linear(in_features=16, out_features=1)\n",
    "#\n",
    "#     def forward(self, x):\n",
    "#         x = self.embedding(x)\n",
    "#         x, _ = self.bidirectional_lstm(x)\n",
    "#         print(x.shape)\n",
    "#         x,_ = self.attention(x)\n",
    "#         print(x.shape)\n",
    "#         # x = self.transition(x)\n",
    "#         x, _ = self.gru(x)\n",
    "#         x = self.fc1(x)\n",
    "#         x = nn.LeakyReLU()(x)\n",
    "#         print(x.shape)\n",
    "#         x = self.bn1(x)\n",
    "#         x = self.dropout1(x)\n",
    "#         x = self.fc2(x)\n",
    "#         x = nn.LeakyReLU()(x)\n",
    "#         x = self.bn2(x)\n",
    "#         x = self.dropout2(x)\n",
    "#         x = self.output(x)\n",
    "#         return x"
   ]
  },
  {
   "cell_type": "code",
   "execution_count": 23,
   "metadata": {
    "collapsed": false,
    "jupyter": {
     "outputs_hidden": false
    },
    "ExecuteTime": {
     "end_time": "2024-12-29T13:44:45.775829300Z",
     "start_time": "2024-12-29T13:44:45.740831500Z"
    }
   },
   "outputs": [],
   "source": [
    "from datetime import datetime"
   ]
  },
  {
   "cell_type": "code",
   "execution_count": 24,
   "metadata": {
    "collapsed": false,
    "jupyter": {
     "outputs_hidden": false
    },
    "ExecuteTime": {
     "end_time": "2024-12-29T13:44:45.775829300Z",
     "start_time": "2024-12-29T13:44:45.742779800Z"
    }
   },
   "outputs": [],
   "source": [
    "class SentimentLSTM(nn.Module):\n",
    "    def __init__(self, no_layers, vocab_size, hidden_dim, embedding_dim, output_dim, drop_prob=0.3):\n",
    "        super(SentimentLSTM, self).__init__()\n",
    "        self.output_dim = output_dim\n",
    "        self.hidden_dim = hidden_dim\n",
    "        self.no_layers = no_layers\n",
    "\n",
    "        # Embedding layer\n",
    "        self.embedding = nn.Embedding(vocab_size, embedding_dim)\n",
    "\n",
    "        # LSTM layer\n",
    "        self.lstm = nn.LSTM(\n",
    "            input_size=embedding_dim,\n",
    "            hidden_size=hidden_dim,\n",
    "            num_layers=no_layers,\n",
    "            batch_first=True\n",
    "        )\n",
    "\n",
    "        # Dropout layer\n",
    "        self.dropout = nn.Dropout(drop_prob)\n",
    "\n",
    "        # Fully connected layer\n",
    "        self.fc = nn.Linear(hidden_dim, output_dim)\n",
    "\n",
    "    def forward(self, x):\n",
    "        batch_size = x.size(0)\n",
    "\n",
    "        # Initialize hidden state and cell state\n",
    "        h = torch.zeros(self.no_layers, batch_size, self.hidden_dim).to(x.device)\n",
    "        c = torch.zeros(self.no_layers, batch_size, self.hidden_dim).to(x.device)\n",
    "\n",
    "        # Embedding and LSTM\n",
    "        embeds = self.embedding(x)  # Shape: (batch_size, seq_length, embedding_dim)\n",
    "        lstm_out, (h, c) = self.lstm(embeds, (h, c))  # Shape of lstm_out: (batch_size, seq_length, hidden_dim)\n",
    "\n",
    "        # Take the hidden state from the last timestep\n",
    "        last_hidden = lstm_out[:, -1, :]  # Shape: (batch_size, hidden_dim)\n",
    "\n",
    "        # Dropout and fully connected layer\n",
    "        out = self.dropout(last_hidden)\n",
    "        out = self.fc(out)  # Shape: (batch_size, output_dim)\n",
    "\n",
    "        return out"
   ]
  },
  {
   "cell_type": "code",
   "execution_count": 24,
   "metadata": {
    "collapsed": false,
    "jupyter": {
     "outputs_hidden": false
    },
    "ExecuteTime": {
     "end_time": "2024-12-29T13:44:45.775829300Z",
     "start_time": "2024-12-29T13:44:45.751961100Z"
    }
   },
   "outputs": [],
   "source": []
  },
  {
   "cell_type": "code",
   "execution_count": 25,
   "metadata": {
    "collapsed": false,
    "jupyter": {
     "outputs_hidden": false
    },
    "ExecuteTime": {
     "end_time": "2024-12-29T13:44:45.775829300Z",
     "start_time": "2024-12-29T13:44:45.763396300Z"
    }
   },
   "outputs": [
    {
     "data": {
      "text/plain": "30522"
     },
     "execution_count": 25,
     "metadata": {},
     "output_type": "execute_result"
    }
   ],
   "source": [
    "len(tokenizer)"
   ]
  },
  {
   "cell_type": "code",
   "execution_count": 26,
   "metadata": {
    "collapsed": false,
    "jupyter": {
     "outputs_hidden": false
    },
    "ExecuteTime": {
     "end_time": "2024-12-29T13:44:45.775829300Z",
     "start_time": "2024-12-29T13:44:45.764593400Z"
    }
   },
   "outputs": [
    {
     "data": {
      "text/plain": "device(type='cuda')"
     },
     "execution_count": 26,
     "metadata": {},
     "output_type": "execute_result"
    }
   ],
   "source": [
    "device = torch.device(\"cuda\")\n",
    "device"
   ]
  },
  {
   "cell_type": "code",
   "execution_count": 27,
   "metadata": {
    "collapsed": false,
    "jupyter": {
     "outputs_hidden": false
    },
    "ExecuteTime": {
     "end_time": "2024-12-29T13:44:45.997906700Z",
     "start_time": "2024-12-29T13:44:45.770831500Z"
    }
   },
   "outputs": [
    {
     "name": "stdout",
     "output_type": "stream",
     "text": [
      "SentimentLSTM(\n",
      "  (embedding): Embedding(30523, 128)\n",
      "  (lstm): LSTM(128, 256, num_layers=4, batch_first=True)\n",
      "  (dropout): Dropout(p=0.3, inplace=False)\n",
      "  (fc): Linear(in_features=256, out_features=1, bias=True)\n",
      ")\n"
     ]
    }
   ],
   "source": [
    "model = SentimentLSTM(no_layers=4,vocab_size=len(tokenizer)+1,hidden_dim=256,embedding_dim=128,output_dim=1,drop_prob=0.3)\n",
    "model = model.to(device)\n",
    "print(model)"
   ]
  },
  {
   "cell_type": "code",
   "execution_count": 28,
   "metadata": {
    "collapsed": false,
    "jupyter": {
     "outputs_hidden": false
    },
    "ExecuteTime": {
     "end_time": "2024-12-29T13:44:48.263056500Z",
     "start_time": "2024-12-29T13:44:45.997906700Z"
    }
   },
   "outputs": [],
   "source": [
    "criterion = nn.BCEWithLogitsLoss()\n",
    "# optimizer = optim.Adam(model.parameters(), lr=0.0001, weight_decay=1e-5)\n",
    "optimizer = optim.Adam(model.parameters(), lr=0.0001, weight_decay=1e-5)"
   ]
  },
  {
   "cell_type": "code",
   "execution_count": 39,
   "metadata": {
    "collapsed": false,
    "jupyter": {
     "outputs_hidden": false
    },
    "ExecuteTime": {
     "end_time": "2024-12-29T15:23:50.837094700Z",
     "start_time": "2024-12-29T15:23:50.807405700Z"
    }
   },
   "outputs": [
    {
     "data": {
      "text/plain": "0"
     },
     "execution_count": 39,
     "metadata": {},
     "output_type": "execute_result"
    }
   ],
   "source": [
    "False *2"
   ]
  },
  {
   "cell_type": "code",
   "execution_count": 29,
   "metadata": {
    "collapsed": false,
    "jupyter": {
     "outputs_hidden": false
    },
    "ExecuteTime": {
     "end_time": "2024-12-29T13:44:48.520894800Z",
     "start_time": "2024-12-29T13:44:48.267977Z"
    }
   },
   "outputs": [
    {
     "name": "stdout",
     "output_type": "stream",
     "text": [
      "torch.Size([128, 128])\n",
      "torch.Size([128, 1])\n"
     ]
    }
   ],
   "source": [
    "# Test the model with a batch from the training DataLoader\n",
    "batch_ids, batch_labels = next(iter(train_dl))\n",
    "batch_ids, batch_labels = batch_ids.to(device), batch_labels.to(device)\n",
    "with torch.no_grad():\n",
    "    print(batch_ids.shape)\n",
    "    out = model(batch_ids)\n",
    "    print(out.shape)\n",
    "    loss = criterion(batch_labels, out)\n",
    "  # Should match the batch size and output dimensions"
   ]
  },
  {
   "cell_type": "code",
   "execution_count": 29,
   "metadata": {
    "collapsed": false,
    "jupyter": {
     "outputs_hidden": false
    },
    "ExecuteTime": {
     "end_time": "2024-12-29T13:44:48.520894800Z",
     "start_time": "2024-12-29T13:44:48.506379700Z"
    }
   },
   "outputs": [],
   "source": []
  },
  {
   "cell_type": "code",
   "execution_count": 30,
   "metadata": {
    "collapsed": false,
    "jupyter": {
     "outputs_hidden": false
    },
    "ExecuteTime": {
     "end_time": "2024-12-29T13:44:49.100718700Z",
     "start_time": "2024-12-29T13:44:48.508897300Z"
    }
   },
   "outputs": [],
   "source": [
    "from candle import Trainer\n",
    "from candle.metrics import Accuracy, Precision, Recall\n",
    "from candle.callbacks import EarlyStopping"
   ]
  },
  {
   "cell_type": "code",
   "execution_count": 31,
   "metadata": {
    "collapsed": false,
    "jupyter": {
     "outputs_hidden": false
    },
    "ExecuteTime": {
     "end_time": "2024-12-29T13:44:49.105764900Z",
     "start_time": "2024-12-29T13:44:49.101723500Z"
    }
   },
   "outputs": [],
   "source": [
    "metrics = [Accuracy(), Precision(), Recall()]"
   ]
  },
  {
   "cell_type": "code",
   "execution_count": 32,
   "metadata": {
    "collapsed": false,
    "jupyter": {
     "outputs_hidden": false
    },
    "ExecuteTime": {
     "end_time": "2024-12-29T13:44:49.112744400Z",
     "start_time": "2024-12-29T13:44:49.106763600Z"
    }
   },
   "outputs": [],
   "source": [
    "trainer = Trainer(\n",
    "    model=model,\n",
    "    criterion=criterion,\n",
    "    input_shape=(128,128),\n",
    "    optimizer=optimizer,\n",
    "    metrics=metrics,\n",
    "    callbacks=[EarlyStopping(basis=\"val_accuracy\", metric_minimize=False, patience=10, threshold=0.85)],\n",
    "    display_time_elapsed=True,\n",
    "    device=torch.device('cuda')\n",
    ")"
   ]
  },
  {
   "cell_type": "code",
   "execution_count": 33,
   "metadata": {
    "collapsed": false,
    "jupyter": {
     "outputs_hidden": false
    },
    "ExecuteTime": {
     "end_time": "2024-12-29T13:50:41.019411200Z",
     "start_time": "2024-12-29T13:44:49.114744400Z"
    }
   },
   "outputs": [
    {
     "name": "stderr",
     "output_type": "stream",
     "text": [
      "EPOCH 0: : 104it [00:06, 16.64it/s]\n",
      "--> Metrics:   accuracy: 0.7968 ,val_accuracy: 0.8286 ,precision: 0.8045 ,val_precision: 0.8286 ,recall: 0.9540 ,val_recall: 1.0000 ,loss: 0.5034 ,val_loss: 0.4585\n",
      "Time elapsed: 6.8480987548828125 s\n",
      "----------------------------------------------------------------------------------------------------\n",
      "EPOCH 1: : 104it [00:05, 17.74it/s]\n",
      "--> Metrics:   accuracy: 0.8243 ,val_accuracy: 0.8286 ,precision: 0.8243 ,val_precision: 0.8286 ,recall: 1.0000 ,val_recall: 1.0000 ,loss: 0.4634 ,val_loss: 0.4569\n",
      "Time elapsed: 13.328080654144287 s\n",
      "----------------------------------------------------------------------------------------------------\n",
      "EPOCH 2: : 104it [00:06, 17.16it/s]\n",
      "--> Metrics:   accuracy: 0.8230 ,val_accuracy: 0.8286 ,precision: 0.8230 ,val_precision: 0.8286 ,recall: 1.0000 ,val_recall: 1.0000 ,loss: 0.4640 ,val_loss: 0.4564\n",
      "Time elapsed: 19.96237087249756 s\n",
      "----------------------------------------------------------------------------------------------------\n",
      "EPOCH 3: : 104it [00:05, 17.44it/s]\n",
      "--> Metrics:   accuracy: 0.8230 ,val_accuracy: 0.8286 ,precision: 0.8230 ,val_precision: 0.8286 ,recall: 1.0000 ,val_recall: 1.0000 ,loss: 0.4618 ,val_loss: 0.4560\n",
      "Time elapsed: 26.52746343612671 s\n",
      "----------------------------------------------------------------------------------------------------\n",
      "EPOCH 4: : 104it [00:05, 17.98it/s]\n",
      "--> Metrics:   accuracy: 0.8232 ,val_accuracy: 0.8280 ,precision: 0.8233 ,val_precision: 0.8287 ,recall: 0.9998 ,val_recall: 0.9989 ,loss: 0.4610 ,val_loss: 0.4584\n",
      "Time elapsed: 32.9180543422699 s\n",
      "----------------------------------------------------------------------------------------------------\n",
      "EPOCH 5: : 104it [00:06, 17.08it/s]\n",
      "--> Metrics:   accuracy: 0.8261 ,val_accuracy: 0.8265 ,precision: 0.8273 ,val_precision: 0.8315 ,recall: 0.9972 ,val_recall: 0.9912 ,loss: 0.4568 ,val_loss: 0.4559\n",
      "Time elapsed: 39.61156487464905 s\n",
      "----------------------------------------------------------------------------------------------------\n",
      "EPOCH 6: : 104it [00:06, 17.27it/s]\n",
      "--> Metrics:   accuracy: 0.8286 ,val_accuracy: 0.8231 ,precision: 0.8306 ,val_precision: 0.8335 ,recall: 0.9949 ,val_recall: 0.9829 ,loss: 0.4539 ,val_loss: 0.4585\n",
      "Time elapsed: 46.25093460083008 s\n",
      "----------------------------------------------------------------------------------------------------\n",
      "EPOCH 7: : 104it [00:05, 17.47it/s]\n",
      "--> Metrics:   accuracy: 0.8299 ,val_accuracy: 0.8229 ,precision: 0.8347 ,val_precision: 0.8325 ,recall: 0.9900 ,val_recall: 0.9845 ,loss: 0.4485 ,val_loss: 0.4579\n",
      "Time elapsed: 52.78188920021057 s\n",
      "----------------------------------------------------------------------------------------------------\n",
      "EPOCH 8: : 104it [00:05, 17.86it/s]\n",
      "--> Metrics:   accuracy: 0.8319 ,val_accuracy: 0.8239 ,precision: 0.8357 ,val_precision: 0.8327 ,recall: 0.9904 ,val_recall: 0.9858 ,loss: 0.4471 ,val_loss: 0.4582\n",
      "Time elapsed: 59.19982933998108 s\n",
      "----------------------------------------------------------------------------------------------------\n",
      "EPOCH 9: : 104it [00:05, 17.57it/s]\n",
      "--> Metrics:   accuracy: 0.8350 ,val_accuracy: 0.8186 ,precision: 0.8390 ,val_precision: 0.8332 ,recall: 0.9893 ,val_recall: 0.9768 ,loss: 0.4441 ,val_loss: 0.4631\n",
      "Time elapsed: 65.71975946426392 s\n",
      "----------------------------------------------------------------------------------------------------\n",
      "EPOCH 10: : 104it [00:06, 17.14it/s]\n",
      "--> Metrics:   accuracy: 0.8410 ,val_accuracy: 0.8149 ,precision: 0.8433 ,val_precision: 0.8349 ,recall: 0.9918 ,val_recall: 0.9684 ,loss: 0.4362 ,val_loss: 0.4686\n",
      "Time elapsed: 72.36268782615662 s\n",
      "----------------------------------------------------------------------------------------------------\n",
      "EPOCH 11: : 104it [00:06, 17.06it/s]\n",
      "--> Metrics:   accuracy: 0.8422 ,val_accuracy: 0.8137 ,precision: 0.8441 ,val_precision: 0.8346 ,recall: 0.9921 ,val_recall: 0.9669 ,loss: 0.4317 ,val_loss: 0.4809\n",
      "Time elapsed: 79.02733206748962 s\n",
      "----------------------------------------------------------------------------------------------------\n",
      "EPOCH 12: : 104it [00:06, 17.19it/s]\n",
      "--> Metrics:   accuracy: 0.8440 ,val_accuracy: 0.8170 ,precision: 0.8452 ,val_precision: 0.8347 ,recall: 0.9925 ,val_recall: 0.9716 ,loss: 0.4292 ,val_loss: 0.4744\n",
      "Time elapsed: 85.66862797737122 s\n",
      "----------------------------------------------------------------------------------------------------\n",
      "EPOCH 13: : 104it [00:05, 17.42it/s]\n",
      "--> Metrics:   accuracy: 0.8474 ,val_accuracy: 0.8201 ,precision: 0.8467 ,val_precision: 0.8349 ,recall: 0.9945 ,val_recall: 0.9761 ,loss: 0.4247 ,val_loss: 0.4807\n",
      "Time elapsed: 92.22883033752441 s\n",
      "----------------------------------------------------------------------------------------------------\n",
      "EPOCH 14: : 104it [00:05, 17.74it/s]\n",
      "--> Metrics:   accuracy: 0.8477 ,val_accuracy: 0.8172 ,precision: 0.8480 ,val_precision: 0.8358 ,recall: 0.9933 ,val_recall: 0.9699 ,loss: 0.4205 ,val_loss: 0.4818\n",
      "Time elapsed: 98.72817850112915 s\n",
      "----------------------------------------------------------------------------------------------------\n",
      "EPOCH 15: : 104it [00:06, 16.77it/s]\n",
      "--> Metrics:   accuracy: 0.8507 ,val_accuracy: 0.8182 ,precision: 0.8498 ,val_precision: 0.8370 ,recall: 0.9948 ,val_recall: 0.9693 ,loss: 0.4162 ,val_loss: 0.4926\n",
      "Time elapsed: 105.61154675483704 s\n",
      "----------------------------------------------------------------------------------------------------\n",
      "EPOCH 16: : 104it [00:06, 17.10it/s]\n",
      "--> Metrics:   accuracy: 0.8516 ,val_accuracy: 0.8205 ,precision: 0.8493 ,val_precision: 0.8346 ,recall: 0.9963 ,val_recall: 0.9768 ,loss: 0.4124 ,val_loss: 0.4862\n",
      "Time elapsed: 112.3124577999115 s\n",
      "----------------------------------------------------------------------------------------------------\n",
      "EPOCH 17: : 104it [00:06, 17.01it/s]\n",
      "--> Metrics:   accuracy: 0.8562 ,val_accuracy: 0.8161 ,precision: 0.8531 ,val_precision: 0.8354 ,recall: 0.9975 ,val_recall: 0.9690 ,loss: 0.4049 ,val_loss: 0.5044\n",
      "Time elapsed: 119.06690526008606 s\n",
      "----------------------------------------------------------------------------------------------------\n",
      "EPOCH 18: : 104it [00:06, 16.60it/s]\n",
      "--> Metrics:   accuracy: 0.8566 ,val_accuracy: 0.8168 ,precision: 0.8537 ,val_precision: 0.8349 ,recall: 0.9972 ,val_recall: 0.9709 ,loss: 0.4039 ,val_loss: 0.4996\n",
      "Time elapsed: 125.934818983078 s\n",
      "----------------------------------------------------------------------------------------------------\n",
      "EPOCH 19: : 104it [00:06, 16.97it/s]\n",
      "--> Metrics:   accuracy: 0.8559 ,val_accuracy: 0.8236 ,precision: 0.8528 ,val_precision: 0.8329 ,recall: 0.9974 ,val_recall: 0.9846 ,loss: 0.4026 ,val_loss: 0.4889\n",
      "Time elapsed: 132.64895129203796 s\n",
      "----------------------------------------------------------------------------------------------------\n",
      "EPOCH 20: : 104it [00:06, 17.14it/s]\n",
      "--> Metrics:   accuracy: 0.8565 ,val_accuracy: 0.8107 ,precision: 0.8530 ,val_precision: 0.8388 ,recall: 0.9975 ,val_recall: 0.9551 ,loss: 0.3944 ,val_loss: 0.5159\n",
      "Time elapsed: 139.34731221199036 s\n",
      "----------------------------------------------------------------------------------------------------\n",
      "EPOCH 21: : 104it [00:06, 16.86it/s]\n",
      "--> Metrics:   accuracy: 0.8557 ,val_accuracy: 0.8151 ,precision: 0.8544 ,val_precision: 0.8399 ,recall: 0.9943 ,val_recall: 0.9597 ,loss: 0.3737 ,val_loss: 0.4976\n",
      "Time elapsed: 146.16078329086304 s\n",
      "----------------------------------------------------------------------------------------------------\n",
      "EPOCH 22: : 104it [00:06, 17.10it/s]\n",
      "--> Metrics:   accuracy: 0.8570 ,val_accuracy: 0.8255 ,precision: 0.8553 ,val_precision: 0.8375 ,recall: 0.9952 ,val_recall: 0.9796 ,loss: 0.3492 ,val_loss: 0.4418\n",
      "Time elapsed: 152.87069392204285 s\n",
      "----------------------------------------------------------------------------------------------------\n",
      "EPOCH 23: : 104it [00:06, 17.28it/s]\n",
      "--> Metrics:   accuracy: 0.8578 ,val_accuracy: 0.8112 ,precision: 0.8683 ,val_precision: 0.8428 ,recall: 0.9758 ,val_recall: 0.9494 ,loss: 0.3354 ,val_loss: 0.4812\n",
      "Time elapsed: 159.5064091682434 s\n",
      "----------------------------------------------------------------------------------------------------\n",
      "EPOCH 24: : 104it [00:06, 16.66it/s]\n",
      "--> Metrics:   accuracy: 0.8671 ,val_accuracy: 0.8390 ,precision: 0.8895 ,val_precision: 0.8560 ,recall: 0.9595 ,val_recall: 0.9692 ,loss: 0.3166 ,val_loss: 0.4395\n",
      "Time elapsed: 166.3895902633667 s\n",
      "----------------------------------------------------------------------------------------------------\n",
      "EPOCH 25: : 104it [00:06, 16.70it/s]\n",
      "--> Metrics:   accuracy: 0.8767 ,val_accuracy: 0.8220 ,precision: 0.9054 ,val_precision: 0.8828 ,recall: 0.9503 ,val_recall: 0.9057 ,loss: 0.3057 ,val_loss: 0.4240\n",
      "Time elapsed: 173.2541902065277 s\n",
      "----------------------------------------------------------------------------------------------------\n",
      "EPOCH 26: : 104it [00:06, 16.88it/s]\n",
      "--> Metrics:   accuracy: 0.8868 ,val_accuracy: 0.8387 ,precision: 0.9133 ,val_precision: 0.8851 ,recall: 0.9534 ,val_recall: 0.9258 ,loss: 0.2867 ,val_loss: 0.4111\n",
      "Time elapsed: 180.05472326278687 s\n",
      "----------------------------------------------------------------------------------------------------\n",
      "EPOCH 27: : 104it [00:06, 15.37it/s]\n",
      "--> Metrics:   accuracy: 0.8961 ,val_accuracy: 0.8474 ,precision: 0.9239 ,val_precision: 0.8684 ,recall: 0.9528 ,val_recall: 0.9617 ,loss: 0.2678 ,val_loss: 0.4091\n",
      "Time elapsed: 187.49210333824158 s\n",
      "----------------------------------------------------------------------------------------------------\n",
      "EPOCH 28: : 104it [00:06, 16.43it/s]\n",
      "--> Metrics:   accuracy: 0.9040 ,val_accuracy: 0.8135 ,precision: 0.9288 ,val_precision: 0.9069 ,recall: 0.9573 ,val_recall: 0.8635 ,loss: 0.2578 ,val_loss: 0.4686\n",
      "Time elapsed: 194.4814329147339 s\n",
      "----------------------------------------------------------------------------------------------------\n",
      "EPOCH 29: : 104it [00:06, 16.76it/s]\n",
      "--> Metrics:   accuracy: 0.9066 ,val_accuracy: 0.8450 ,precision: 0.9324 ,val_precision: 0.8973 ,recall: 0.9563 ,val_recall: 0.9185 ,loss: 0.2477 ,val_loss: 0.4227\n",
      "Time elapsed: 201.30366826057434 s\n",
      "----------------------------------------------------------------------------------------------------\n",
      "EPOCH 30: : 104it [00:06, 16.47it/s]\n",
      "--> Metrics:   accuracy: 0.9175 ,val_accuracy: 0.8484 ,precision: 0.9398 ,val_precision: 0.8852 ,recall: 0.9617 ,val_recall: 0.9389 ,loss: 0.2257 ,val_loss: 0.4095\n",
      "Time elapsed: 208.2799050807953 s\n",
      "----------------------------------------------------------------------------------------------------\n",
      "EPOCH 31: : 104it [00:06, 16.67it/s]\n",
      "--> Metrics:   accuracy: 0.9225 ,val_accuracy: 0.8555 ,precision: 0.9416 ,val_precision: 0.8785 ,recall: 0.9659 ,val_recall: 0.9582 ,loss: 0.2221 ,val_loss: 0.4232\n",
      "Time elapsed: 215.19296526908875 s\n",
      "----------------------------------------------------------------------------------------------------\n",
      "EPOCH 32: : 104it [00:06, 16.35it/s]\n",
      "--> Metrics:   accuracy: 0.9271 ,val_accuracy: 0.8462 ,precision: 0.9471 ,val_precision: 0.8970 ,recall: 0.9657 ,val_recall: 0.9204 ,loss: 0.2054 ,val_loss: 0.4241\n",
      "Time elapsed: 222.1802408695221 s\n",
      "----------------------------------------------------------------------------------------------------\n",
      "EPOCH 33: : 104it [00:06, 16.49it/s]\n",
      "--> Metrics:   accuracy: 0.9331 ,val_accuracy: 0.8518 ,precision: 0.9503 ,val_precision: 0.8900 ,recall: 0.9699 ,val_recall: 0.9370 ,loss: 0.1970 ,val_loss: 0.4209\n",
      "Time elapsed: 229.11188888549805 s\n",
      "----------------------------------------------------------------------------------------------------\n",
      "EPOCH 34: : 104it [00:06, 16.17it/s]\n",
      "--> Metrics:   accuracy: 0.9354 ,val_accuracy: 0.8389 ,precision: 0.9520 ,val_precision: 0.9031 ,recall: 0.9699 ,val_recall: 0.9026 ,loss: 0.1917 ,val_loss: 0.4574\n",
      "Time elapsed: 236.25989174842834 s\n",
      "----------------------------------------------------------------------------------------------------\n",
      "EPOCH 35: : 104it [00:06, 15.98it/s]\n",
      "--> Metrics:   accuracy: 0.9432 ,val_accuracy: 0.8562 ,precision: 0.9590 ,val_precision: 0.8948 ,recall: 0.9726 ,val_recall: 0.9365 ,loss: 0.1750 ,val_loss: 0.4365\n",
      "Time elapsed: 243.4062864780426 s\n",
      "----------------------------------------------------------------------------------------------------\n",
      "EPOCH 36: : 104it [00:06, 15.64it/s]\n",
      "--> Metrics:   accuracy: 0.9500 ,val_accuracy: 0.8551 ,precision: 0.9633 ,val_precision: 0.8905 ,recall: 0.9764 ,val_recall: 0.9406 ,loss: 0.1644 ,val_loss: 0.4552\n",
      "Time elapsed: 250.67347478866577 s\n",
      "----------------------------------------------------------------------------------------------------\n",
      "EPOCH 37: : 104it [00:06, 16.13it/s]\n",
      "--> Metrics:   accuracy: 0.9536 ,val_accuracy: 0.8263 ,precision: 0.9654 ,val_precision: 0.9159 ,recall: 0.9788 ,val_recall: 0.8700 ,loss: 0.1553 ,val_loss: 0.5171\n",
      "Time elapsed: 257.7779932022095 s\n",
      "----------------------------------------------------------------------------------------------------\n",
      "EPOCH 38: : 104it [00:06, 15.90it/s]\n",
      "--> Metrics:   accuracy: 0.9518 ,val_accuracy: 0.8547 ,precision: 0.9653 ,val_precision: 0.8805 ,recall: 0.9768 ,val_recall: 0.9539 ,loss: 0.1553 ,val_loss: 0.4485\n",
      "Time elapsed: 264.9537854194641 s\n",
      "----------------------------------------------------------------------------------------------------\n",
      "EPOCH 39: : 104it [00:06, 16.06it/s]\n",
      "--> Metrics:   accuracy: 0.9599 ,val_accuracy: 0.8474 ,precision: 0.9690 ,val_precision: 0.9087 ,recall: 0.9830 ,val_recall: 0.9069 ,loss: 0.1437 ,val_loss: 0.4675\n",
      "Time elapsed: 272.1421768665314 s\n",
      "----------------------------------------------------------------------------------------------------\n",
      "EPOCH 40: : 104it [00:06, 16.11it/s]\n",
      "--> Metrics:   accuracy: 0.9600 ,val_accuracy: 0.8609 ,precision: 0.9695 ,val_precision: 0.8873 ,recall: 0.9823 ,val_recall: 0.9528 ,loss: 0.1418 ,val_loss: 0.4500\n",
      "Time elapsed: 279.28940081596375 s\n",
      "----------------------------------------------------------------------------------------------------\n",
      "EPOCH 41: : 104it [00:06, 15.78it/s]\n",
      "--> Metrics:   accuracy: 0.9644 ,val_accuracy: 0.8418 ,precision: 0.9723 ,val_precision: 0.9126 ,recall: 0.9849 ,val_recall: 0.8951 ,loss: 0.1317 ,val_loss: 0.5009\n",
      "Time elapsed: 286.52493047714233 s\n",
      "----------------------------------------------------------------------------------------------------\n",
      "EPOCH 42: : 104it [00:06, 15.93it/s]\n",
      "--> Metrics:   accuracy: 0.9679 ,val_accuracy: 0.8455 ,precision: 0.9742 ,val_precision: 0.9054 ,recall: 0.9872 ,val_recall: 0.9086 ,loss: 0.1220 ,val_loss: 0.4791\n",
      "Time elapsed: 293.81952595710754 s\n",
      "----------------------------------------------------------------------------------------------------\n",
      "EPOCH 43: : 104it [00:06, 15.91it/s]\n",
      "--> Metrics:   accuracy: 0.9704 ,val_accuracy: 0.8494 ,precision: 0.9761 ,val_precision: 0.9029 ,recall: 0.9883 ,val_recall: 0.9170 ,loss: 0.1162 ,val_loss: 0.5153\n",
      "Time elapsed: 300.99569439888 s\n",
      "----------------------------------------------------------------------------------------------------\n",
      "EPOCH 44: : 104it [00:06, 15.42it/s]\n",
      "--> Metrics:   accuracy: 0.9724 ,val_accuracy: 0.8547 ,precision: 0.9781 ,val_precision: 0.8929 ,recall: 0.9887 ,val_recall: 0.9369 ,loss: 0.1102 ,val_loss: 0.4756\n",
      "Time elapsed: 308.4452774524689 s\n",
      "----------------------------------------------------------------------------------------------------\n",
      "EPOCH 45: : 104it [00:06, 15.37it/s]\n",
      "--> Metrics:   accuracy: 0.9727 ,val_accuracy: 0.8522 ,precision: 0.9779 ,val_precision: 0.8972 ,recall: 0.9894 ,val_recall: 0.9278 ,loss: 0.1096 ,val_loss: 0.4769\n",
      "Time elapsed: 315.9669589996338 s\n",
      "----------------------------------------------------------------------------------------------------\n",
      "EPOCH 46: : 104it [00:06, 16.09it/s]\n",
      "--> Metrics:   accuracy: 0.9705 ,val_accuracy: 0.8529 ,precision: 0.9766 ,val_precision: 0.9023 ,recall: 0.9883 ,val_recall: 0.9221 ,loss: 0.1160 ,val_loss: 0.4989\n",
      "Time elapsed: 323.06959795951843 s\n",
      "----------------------------------------------------------------------------------------------------\n",
      "EPOCH 47: : 104it [00:06, 15.50it/s]\n",
      "--> Metrics:   accuracy: 0.9763 ,val_accuracy: 0.8517 ,precision: 0.9800 ,val_precision: 0.8911 ,recall: 0.9913 ,val_recall: 0.9356 ,loss: 0.1014 ,val_loss: 0.5205\n",
      "Time elapsed: 330.4191720485687 s\n",
      "----------------------------------------------------------------------------------------------------\n",
      "EPOCH 48: : 104it [00:06, 16.43it/s]\n",
      "--> Metrics:   accuracy: 0.9764 ,val_accuracy: 0.8364 ,precision: 0.9804 ,val_precision: 0.9073 ,recall: 0.9912 ,val_recall: 0.8936 ,loss: 0.1001 ,val_loss: 0.5782\n",
      "Time elapsed: 337.4931035041809 s\n",
      "----------------------------------------------------------------------------------------------------\n",
      "EPOCH 49: : 104it [00:06, 16.07it/s]\n",
      "--> Metrics:   accuracy: 0.9745 ,val_accuracy: 0.8518 ,precision: 0.9799 ,val_precision: 0.8883 ,recall: 0.9894 ,val_recall: 0.9394 ,loss: 0.1051 ,val_loss: 0.5346\n",
      "Time elapsed: 344.6442379951477 s\n",
      "----------------------------------------------------------------------------------------------------\n",
      "EPOCH 50: : 104it [00:06, 15.72it/s]\n",
      "--> Metrics:   accuracy: 0.9772 ,val_accuracy: 0.8406 ,precision: 0.9806 ,val_precision: 0.9058 ,recall: 0.9920 ,val_recall: 0.9015 ,loss: 0.0971 ,val_loss: 0.5502\n",
      "Early-stopping at epoch 50, basis : val_accuracy↓\n",
      "----------------------------------------------------------------------------------------------------\n",
      "Restoring best weights...\n",
      "\tBest epoch: 40\n",
      "\tTraining loss: 0.1418\n",
      "\tValidation loss: 0.4500\n",
      "\tTraining accuracy: 0.9600\n",
      "\tValidation accuracy: 0.8609\n",
      "\tTraining precision: 0.9695\n",
      "\tValidation precision: 0.8873\n",
      "\tTraining recall: 0.9823\n",
      "\tValidation recall: 0.9528\n",
      "Time elapsed: 351.8998188972473 s\n",
      "----------------------------------------------------------------------------------------------------\n"
     ]
    }
   ],
   "source": [
    "history = trainer.fit(train_dl, val_dl, epochs=100)"
   ]
  },
  {
   "cell_type": "code",
   "execution_count": 34,
   "metadata": {
    "collapsed": false,
    "jupyter": {
     "outputs_hidden": false
    },
    "ExecuteTime": {
     "end_time": "2024-12-29T13:50:41.431788700Z",
     "start_time": "2024-12-29T13:50:41.020410200Z"
    }
   },
   "outputs": [
    {
     "data": {
      "text/plain": "<Figure size 1000x600 with 1 Axes>",
      "image/png": "[encoded data removed]"
     },
     "metadata": {},
     "output_type": "display_data"
    }
   ],
   "source": [
    "trainer.tracker.plot(\"accuracy\", \"val_accuracy\")"
   ]
  },
  {
   "cell_type": "code",
   "execution_count": 35,
   "metadata": {
    "collapsed": false,
    "jupyter": {
     "outputs_hidden": false
    },
    "ExecuteTime": {
     "end_time": "2024-12-29T13:50:41.571251400Z",
     "start_time": "2024-12-29T13:50:41.432787400Z"
    }
   },
   "outputs": [
    {
     "data": {
      "text/plain": "<Figure size 1000x600 with 1 Axes>",
      "image/png": "[encoded data removed]"
     },
     "metadata": {},
     "output_type": "display_data"
    }
   ],
   "source": [
    "trainer.tracker.plot(\"loss\", \"val_loss\")"
   ]
  },
  {
   "cell_type": "code",
   "execution_count": 36,
   "metadata": {
    "collapsed": false,
    "jupyter": {
     "outputs_hidden": false
    },
    "ExecuteTime": {
     "end_time": "2024-12-29T13:50:41.936172800Z",
     "start_time": "2024-12-29T13:50:41.570250600Z"
    }
   },
   "outputs": [
    {
     "name": "stderr",
     "output_type": "stream",
     "text": [
      "Successfully saved progress!\n"
     ]
    }
   ],
   "source": [
    "trainer.save_progress(path=\"artifacts/lstm\",metric_name=\"val_accuracy\")"
   ]
  },
  {
   "cell_type": "code",
   "execution_count": 37,
   "metadata": {
    "collapsed": false,
    "jupyter": {
     "outputs_hidden": false
    },
    "ExecuteTime": {
     "end_time": "2024-12-29T13:50:41.942768600Z",
     "start_time": "2024-12-29T13:50:41.937678900Z"
    }
   },
   "outputs": [
    {
     "data": {
      "text/plain": "{'epoch': 40,\n 'accuracy': 0.9599609375,\n 'val_accuracy': 0.8609080651491366,\n 'precision': 0.9695306722445415,\n 'val_precision': 0.8873204502125258,\n 'recall': 0.9822946994436675,\n 'val_recall': 0.9528023225252577,\n 'loss': 0.1418184779691868,\n 'val_loss': 0.449996965435835}"
     },
     "execution_count": 37,
     "metadata": {},
     "output_type": "execute_result"
    }
   ],
   "source": [
    "trainer.final_metrics"
   ]
  },
  {
   "cell_type": "code",
   "execution_count": 37,
   "outputs": [],
   "source": [],
   "metadata": {
    "collapsed": false,
    "ExecuteTime": {
     "end_time": "2024-12-29T13:50:41.949137Z",
     "start_time": "2024-12-29T13:50:41.947618700Z"
    }
   }
  }
 ],
 "metadata": {
  "kernelspec": {
   "display_name": "Python 3 (ipykernel)",
   "language": "python",
   "name": "python3"
  },
  "language_info": {
   "codemirror_mode": {
    "name": "ipython",
    "version": 3
   },
   "file_extension": ".py",
   "mimetype": "text/x-python",
   "name": "python",
   "nbconvert_exporter": "python",
   "pygments_lexer": "ipython3",
   "version": "3.12.3"
  }
 },
 "nbformat": 4,
 "nbformat_minor": 4
}
